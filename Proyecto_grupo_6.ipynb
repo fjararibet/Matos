{
 "cells": [
  {
   "cell_type": "markdown",
   "id": "f0c5536b",
   "metadata": {
    "id": "f0c5536b"
   },
   "source": [
    "# Minería de Datos: Proyecto grupo 6\n",
    "\n",
    "\n",
    "### Grupo 6\n",
    "### Valorant dataset\n",
    "\n",
    "Integrantes:\n",
    " - Carlos Ambiado\n",
    " - Cristóbal Isla\n",
    " - Felipe Jara\n",
    " - Nicolás Peña\n",
    " - Manuel Sepúlveda"
   ]
  },
  {
   "cell_type": "markdown",
   "id": "y1i6Fsr2DY8L",
   "metadata": {
    "id": "y1i6Fsr2DY8L"
   },
   "source": [
    "# Hito 1:"
   ]
  },
  {
   "cell_type": "markdown",
   "id": "4c488635",
   "metadata": {
    "id": "4c488635"
   },
   "source": [
    "# Introducción\n",
    "\n",
    "El problema presentado consiste en estudiar un dataset de VALORANT, un videojuego multijugador competitivo de disparos en primera persona desarrollado por Riot Games y lanzado en 2020. El juego consiste en partidas de 5 contra 5 jugadores, donde cada equipo se enfrenta a otro en rondas de ataque y defensa en una variedad de mapas. Cada jugador debe escoger un personaje con habilidades únicas que se utilizan durante las rondas, además de las propias mecánicas de los disparos, para poder así ganar la partida. El objetivo principal de las rondas, y por tanto, la forma de ganar, es eliminar completamente al equipo contrario o, dependiendo si el equipo está atacando o defendiendo, deberán plantar la bomba en sitio enemigo logrando que explote, o desactivar la bomba plantada por el enemigo.\n",
    "Este dataset contiene datos de partidas profesionales del juego hasta Enero de 2021.\n",
    "\n",
    "Nos centramos en estudiar y analizar este dataset pues todos los integrantes del grupo jugamos VALORANT, por lo que nos pareció más interesante y entretenido para lograr un mejor entendimiento del juego y recuperar estadísticas interesantes o encontrar relaciones entre los datos para obtener conclusiones respecto a estos."
   ]
  },
  {
   "cell_type": "markdown",
   "id": "95f1dfc4",
   "metadata": {
    "id": "95f1dfc4"
   },
   "source": [
    "# Exploración de datos\n",
    "\n",
    "Para la exploración de datos utilizamos Python y la librería de Pandas"
   ]
  },
  {
   "cell_type": "code",
   "execution_count": 1,
   "id": "1a45d163",
   "metadata": {
    "id": "1a45d163"
   },
   "outputs": [],
   "source": [
    "import pandas as pd\n",
    "import sqlite3\n",
    "import matplotlib.pyplot as plt\n",
    "import numpy as np"
   ]
  },
  {
   "cell_type": "markdown",
   "id": "1bccad58",
   "metadata": {
    "id": "1bccad58"
   },
   "source": [
    "Los datos estan en formato .sqlite, por lo que utilizamos la librería sqlite3 para conectarnos a la base de datos y cargarlos a un dataframe de pandas."
   ]
  },
  {
   "cell_type": "code",
   "execution_count": 60,
   "id": "bcb3be5e",
   "metadata": {
    "id": "bcb3be5e"
   },
   "outputs": [],
   "source": [
    "con = sqlite3.connect(\"valorant.sqlite\")\n",
    "game_scoreboard = pd.read_sql_query(\"SELECT * FROM game_scoreboard\", con)\n",
    "matches = pd.read_sql_query(\"SELECT * FROM matches\", con)\n",
    "games = pd.read_sql_query(\"SELECT * FROM games\", con)\n",
    "rounds = pd.read_sql_query(\"SELECT * FROM game_rounds\", con)\n",
    "con.close()"
   ]
  },
  {
   "cell_type": "markdown",
   "id": "38594345",
   "metadata": {
    "id": "38594345"
   },
   "source": [
    "Primero que nada, filtraremos los datos para que estos sean solo partidas jugadas en el evento de más alto nivel; la VALORANT Champions"
   ]
  },
  {
   "cell_type": "code",
   "execution_count": 4,
   "id": "907e3f40",
   "metadata": {
    "id": "907e3f40"
   },
   "outputs": [],
   "source": [
    "data = pd.merge(game_scoreboard, games, on='GameID')\n",
    "merged = pd.merge(data, matches, on=\"MatchID\")\n",
    "filtered = merged[merged['EventName'] == 'VALORANT Champions']"
   ]
  },
  {
   "cell_type": "markdown",
   "id": "accb71ea",
   "metadata": {
    "id": "accb71ea"
   },
   "source": [
    "Ahora podemos ver las primeras filas de cada tabla, y contar los datos nulos de cada columna."
   ]
  },
  {
   "cell_type": "code",
   "execution_count": null,
   "id": "3a01ed19",
   "metadata": {
    "colab": {
     "base_uri": "https://localhost:8080/",
     "height": 386
    },
    "id": "3a01ed19",
    "outputId": "02f0a87a-2e57-473c-d82d-d36267b92d2d",
    "scrolled": true
   },
   "outputs": [
    {
     "data": {
      "text/html": [
       "\n",
       "  <div id=\"df-3483b32f-a237-494d-a5cf-61055af0ccee\">\n",
       "    <div class=\"colab-df-container\">\n",
       "      <div>\n",
       "<style scoped>\n",
       "    .dataframe tbody tr th:only-of-type {\n",
       "        vertical-align: middle;\n",
       "    }\n",
       "\n",
       "    .dataframe tbody tr th {\n",
       "        vertical-align: top;\n",
       "    }\n",
       "\n",
       "    .dataframe thead th {\n",
       "        text-align: right;\n",
       "    }\n",
       "</style>\n",
       "<table border=\"1\" class=\"dataframe\">\n",
       "  <thead>\n",
       "    <tr style=\"text-align: right;\">\n",
       "      <th></th>\n",
       "      <th>GameID</th>\n",
       "      <th>PlayerID</th>\n",
       "      <th>PlayerName</th>\n",
       "      <th>TeamAbbreviation</th>\n",
       "      <th>Agent</th>\n",
       "      <th>ACS</th>\n",
       "      <th>Kills</th>\n",
       "      <th>Deaths</th>\n",
       "      <th>Assists</th>\n",
       "      <th>PlusMinus</th>\n",
       "      <th>...</th>\n",
       "      <th>Patch</th>\n",
       "      <th>EventID</th>\n",
       "      <th>EventName</th>\n",
       "      <th>EventStage</th>\n",
       "      <th>Team1ID_y</th>\n",
       "      <th>Team2ID_y</th>\n",
       "      <th>Team1_y</th>\n",
       "      <th>Team2_y</th>\n",
       "      <th>Team1_MapScore</th>\n",
       "      <th>Team2_MapScore</th>\n",
       "    </tr>\n",
       "  </thead>\n",
       "  <tbody>\n",
       "    <tr>\n",
       "      <th>4809</th>\n",
       "      <td>57981</td>\n",
       "      <td>573</td>\n",
       "      <td>cNed</td>\n",
       "      <td>ACE</td>\n",
       "      <td>jett</td>\n",
       "      <td>178.0</td>\n",
       "      <td>16.0</td>\n",
       "      <td>16.0</td>\n",
       "      <td>0.0</td>\n",
       "      <td>0.0</td>\n",
       "      <td>...</td>\n",
       "      <td>Patch 3.10</td>\n",
       "      <td>449</td>\n",
       "      <td>VALORANT Champions</td>\n",
       "      <td>Playoffs: Grand Final</td>\n",
       "      <td>3531</td>\n",
       "      <td>682</td>\n",
       "      <td>Acend</td>\n",
       "      <td>Gambit Esports</td>\n",
       "      <td>3</td>\n",
       "      <td>2</td>\n",
       "    </tr>\n",
       "    <tr>\n",
       "      <th>4810</th>\n",
       "      <td>57981</td>\n",
       "      <td>562</td>\n",
       "      <td>zeek</td>\n",
       "      <td>ACE</td>\n",
       "      <td>kayo</td>\n",
       "      <td>170.0</td>\n",
       "      <td>13.0</td>\n",
       "      <td>17.0</td>\n",
       "      <td>9.0</td>\n",
       "      <td>-4.0</td>\n",
       "      <td>...</td>\n",
       "      <td>Patch 3.10</td>\n",
       "      <td>449</td>\n",
       "      <td>VALORANT Champions</td>\n",
       "      <td>Playoffs: Grand Final</td>\n",
       "      <td>3531</td>\n",
       "      <td>682</td>\n",
       "      <td>Acend</td>\n",
       "      <td>Gambit Esports</td>\n",
       "      <td>3</td>\n",
       "      <td>2</td>\n",
       "    </tr>\n",
       "    <tr>\n",
       "      <th>4811</th>\n",
       "      <td>57981</td>\n",
       "      <td>3672</td>\n",
       "      <td>BONECOLD</td>\n",
       "      <td>ACE</td>\n",
       "      <td>sova</td>\n",
       "      <td>168.0</td>\n",
       "      <td>14.0</td>\n",
       "      <td>16.0</td>\n",
       "      <td>4.0</td>\n",
       "      <td>-2.0</td>\n",
       "      <td>...</td>\n",
       "      <td>Patch 3.10</td>\n",
       "      <td>449</td>\n",
       "      <td>VALORANT Champions</td>\n",
       "      <td>Playoffs: Grand Final</td>\n",
       "      <td>3531</td>\n",
       "      <td>682</td>\n",
       "      <td>Acend</td>\n",
       "      <td>Gambit Esports</td>\n",
       "      <td>3</td>\n",
       "      <td>2</td>\n",
       "    </tr>\n",
       "    <tr>\n",
       "      <th>4812</th>\n",
       "      <td>57981</td>\n",
       "      <td>565</td>\n",
       "      <td>starxo</td>\n",
       "      <td>ACE</td>\n",
       "      <td>viper</td>\n",
       "      <td>144.0</td>\n",
       "      <td>12.0</td>\n",
       "      <td>20.0</td>\n",
       "      <td>4.0</td>\n",
       "      <td>-8.0</td>\n",
       "      <td>...</td>\n",
       "      <td>Patch 3.10</td>\n",
       "      <td>449</td>\n",
       "      <td>VALORANT Champions</td>\n",
       "      <td>Playoffs: Grand Final</td>\n",
       "      <td>3531</td>\n",
       "      <td>682</td>\n",
       "      <td>Acend</td>\n",
       "      <td>Gambit Esports</td>\n",
       "      <td>3</td>\n",
       "      <td>2</td>\n",
       "    </tr>\n",
       "    <tr>\n",
       "      <th>4813</th>\n",
       "      <td>57981</td>\n",
       "      <td>2894</td>\n",
       "      <td>Kiles</td>\n",
       "      <td>ACE</td>\n",
       "      <td>cypher</td>\n",
       "      <td>120.0</td>\n",
       "      <td>11.0</td>\n",
       "      <td>19.0</td>\n",
       "      <td>2.0</td>\n",
       "      <td>-8.0</td>\n",
       "      <td>...</td>\n",
       "      <td>Patch 3.10</td>\n",
       "      <td>449</td>\n",
       "      <td>VALORANT Champions</td>\n",
       "      <td>Playoffs: Grand Final</td>\n",
       "      <td>3531</td>\n",
       "      <td>682</td>\n",
       "      <td>Acend</td>\n",
       "      <td>Gambit Esports</td>\n",
       "      <td>3</td>\n",
       "      <td>2</td>\n",
       "    </tr>\n",
       "  </tbody>\n",
       "</table>\n",
       "<p>5 rows × 74 columns</p>\n",
       "</div>\n",
       "      <button class=\"colab-df-convert\" onclick=\"convertToInteractive('df-3483b32f-a237-494d-a5cf-61055af0ccee')\"\n",
       "              title=\"Convert this dataframe to an interactive table.\"\n",
       "              style=\"display:none;\">\n",
       "        \n",
       "  <svg xmlns=\"http://www.w3.org/2000/svg\" height=\"24px\"viewBox=\"0 0 24 24\"\n",
       "       width=\"24px\">\n",
       "    <path d=\"M0 0h24v24H0V0z\" fill=\"none\"/>\n",
       "    <path d=\"M18.56 5.44l.94 2.06.94-2.06 2.06-.94-2.06-.94-.94-2.06-.94 2.06-2.06.94zm-11 1L8.5 8.5l.94-2.06 2.06-.94-2.06-.94L8.5 2.5l-.94 2.06-2.06.94zm10 10l.94 2.06.94-2.06 2.06-.94-2.06-.94-.94-2.06-.94 2.06-2.06.94z\"/><path d=\"M17.41 7.96l-1.37-1.37c-.4-.4-.92-.59-1.43-.59-.52 0-1.04.2-1.43.59L10.3 9.45l-7.72 7.72c-.78.78-.78 2.05 0 2.83L4 21.41c.39.39.9.59 1.41.59.51 0 1.02-.2 1.41-.59l7.78-7.78 2.81-2.81c.8-.78.8-2.07 0-2.86zM5.41 20L4 18.59l7.72-7.72 1.47 1.35L5.41 20z\"/>\n",
       "  </svg>\n",
       "      </button>\n",
       "      \n",
       "  <style>\n",
       "    .colab-df-container {\n",
       "      display:flex;\n",
       "      flex-wrap:wrap;\n",
       "      gap: 12px;\n",
       "    }\n",
       "\n",
       "    .colab-df-convert {\n",
       "      background-color: #E8F0FE;\n",
       "      border: none;\n",
       "      border-radius: 50%;\n",
       "      cursor: pointer;\n",
       "      display: none;\n",
       "      fill: #1967D2;\n",
       "      height: 32px;\n",
       "      padding: 0 0 0 0;\n",
       "      width: 32px;\n",
       "    }\n",
       "\n",
       "    .colab-df-convert:hover {\n",
       "      background-color: #E2EBFA;\n",
       "      box-shadow: 0px 1px 2px rgba(60, 64, 67, 0.3), 0px 1px 3px 1px rgba(60, 64, 67, 0.15);\n",
       "      fill: #174EA6;\n",
       "    }\n",
       "\n",
       "    [theme=dark] .colab-df-convert {\n",
       "      background-color: #3B4455;\n",
       "      fill: #D2E3FC;\n",
       "    }\n",
       "\n",
       "    [theme=dark] .colab-df-convert:hover {\n",
       "      background-color: #434B5C;\n",
       "      box-shadow: 0px 1px 3px 1px rgba(0, 0, 0, 0.15);\n",
       "      filter: drop-shadow(0px 1px 2px rgba(0, 0, 0, 0.3));\n",
       "      fill: #FFFFFF;\n",
       "    }\n",
       "  </style>\n",
       "\n",
       "      <script>\n",
       "        const buttonEl =\n",
       "          document.querySelector('#df-3483b32f-a237-494d-a5cf-61055af0ccee button.colab-df-convert');\n",
       "        buttonEl.style.display =\n",
       "          google.colab.kernel.accessAllowed ? 'block' : 'none';\n",
       "\n",
       "        async function convertToInteractive(key) {\n",
       "          const element = document.querySelector('#df-3483b32f-a237-494d-a5cf-61055af0ccee');\n",
       "          const dataTable =\n",
       "            await google.colab.kernel.invokeFunction('convertToInteractive',\n",
       "                                                     [key], {});\n",
       "          if (!dataTable) return;\n",
       "\n",
       "          const docLinkHtml = 'Like what you see? Visit the ' +\n",
       "            '<a target=\"_blank\" href=https://colab.research.google.com/notebooks/data_table.ipynb>data table notebook</a>'\n",
       "            + ' to learn more about interactive tables.';\n",
       "          element.innerHTML = '';\n",
       "          dataTable['output_type'] = 'display_data';\n",
       "          await google.colab.output.renderOutput(dataTable, element);\n",
       "          const docLink = document.createElement('div');\n",
       "          docLink.innerHTML = docLinkHtml;\n",
       "          element.appendChild(docLink);\n",
       "        }\n",
       "      </script>\n",
       "    </div>\n",
       "  </div>\n",
       "  "
      ],
      "text/plain": [
       "     GameID PlayerID PlayerName TeamAbbreviation   Agent    ACS  Kills  \\\n",
       "4809  57981      573       cNed              ACE    jett  178.0   16.0   \n",
       "4810  57981      562       zeek              ACE    kayo  170.0   13.0   \n",
       "4811  57981     3672   BONECOLD              ACE    sova  168.0   14.0   \n",
       "4812  57981      565     starxo              ACE   viper  144.0   12.0   \n",
       "4813  57981     2894      Kiles              ACE  cypher  120.0   11.0   \n",
       "\n",
       "      Deaths  Assists  PlusMinus  ...       Patch  EventID  \\\n",
       "4809    16.0      0.0        0.0  ...  Patch 3.10      449   \n",
       "4810    17.0      9.0       -4.0  ...  Patch 3.10      449   \n",
       "4811    16.0      4.0       -2.0  ...  Patch 3.10      449   \n",
       "4812    20.0      4.0       -8.0  ...  Patch 3.10      449   \n",
       "4813    19.0      2.0       -8.0  ...  Patch 3.10      449   \n",
       "\n",
       "               EventName             EventStage  Team1ID_y  Team2ID_y  \\\n",
       "4809  VALORANT Champions  Playoffs: Grand Final       3531        682   \n",
       "4810  VALORANT Champions  Playoffs: Grand Final       3531        682   \n",
       "4811  VALORANT Champions  Playoffs: Grand Final       3531        682   \n",
       "4812  VALORANT Champions  Playoffs: Grand Final       3531        682   \n",
       "4813  VALORANT Champions  Playoffs: Grand Final       3531        682   \n",
       "\n",
       "      Team1_y         Team2_y  Team1_MapScore  Team2_MapScore  \n",
       "4809    Acend  Gambit Esports               3               2  \n",
       "4810    Acend  Gambit Esports               3               2  \n",
       "4811    Acend  Gambit Esports               3               2  \n",
       "4812    Acend  Gambit Esports               3               2  \n",
       "4813    Acend  Gambit Esports               3               2  \n",
       "\n",
       "[5 rows x 74 columns]"
      ]
     },
     "execution_count": 43,
     "metadata": {},
     "output_type": "execute_result"
    }
   ],
   "source": [
    "filtered.head()"
   ]
  },
  {
   "cell_type": "code",
   "execution_count": null,
   "id": "c0bdaef4",
   "metadata": {
    "id": "c0bdaef4"
   },
   "outputs": [],
   "source": [
    "assert(i==0 for i in filtered.isna().sum())"
   ]
  },
  {
   "cell_type": "markdown",
   "id": "40079ede",
   "metadata": {
    "id": "40079ede"
   },
   "source": [
    "Para este evento, no existen datos nulos, por lo que no es necesario hacer una limpieza."
   ]
  },
  {
   "cell_type": "markdown",
   "id": "4291de9e",
   "metadata": {
    "id": "4291de9e"
   },
   "source": [
    "---\n",
    "**Gráfico 1: Histograma de ADR**<br>\n",
    "Una manera de medir la calidad de un jugador puede ser a través del daño que hacen a otros jugadores, para lo que se usa el ADR (Average Damage per Round). El Gráfico 1 de ADR vs. Frecuencia, nos puede servir como base para identificar si un jugador está por sobre la media en cuanto a daño inflingido por ronda. Como referencia, cada jugador inicia una ronda con 100 de vida y se tiene la posibilidad de comprar un escudo que añade 50 de vida adicional, la mayoría de las veces los jugadores compran el escudo, a no ser que la economía de su equipo no lo permita."
   ]
  },
  {
   "cell_type": "code",
   "execution_count": null,
   "id": "9c5f9575",
   "metadata": {
    "colab": {
     "base_uri": "https://localhost:8080/",
     "height": 472
    },
    "id": "9c5f9575",
    "outputId": "b6ec6cad-a8c4-4ab4-bb94-bb08c7a6fffb"
   },
   "outputs": [
    {
     "data": {
      "image/png": "[encoded data removed]",
      "text/plain": [
       "<Figure size 640x480 with 1 Axes>"
      ]
     },
     "metadata": {},
     "output_type": "display_data"
    }
   ],
   "source": [
    "plt.hist(filtered[\"ADR\"], bins=50)\n",
    "plt.title(\"Histograma de ADR\")\n",
    "plt.xlabel(\"ADR\")\n",
    "plt.ylabel(\"Frecuencia\")\n",
    "plt.show()\n"
   ]
  },
  {
   "cell_type": "markdown",
   "id": "7dcba6bd",
   "metadata": {
    "id": "7dcba6bd"
   },
   "source": [
    "Se puede ver que los ADR más comunes se encuentran entre 100 y 150, y muy poco sobre 200. Se podría concluir que hacer el daño equivalente a matar 1.5 jugadores por ronda podría poner a alguien en la élite de los jugadores, pero veremos que el ADR no basta para juzgar la calidad de un jugador."
   ]
  },
  {
   "cell_type": "markdown",
   "id": "6f3d76f7",
   "metadata": {
    "id": "6f3d76f7"
   },
   "source": [
    "---\n",
    "**Gráfico 2: ACS versus KAST Percent** <br>\n",
    "ACS (Average Combat Score) es una medida que otorga el juego al finalizar una partida, trata de mejorar el ADR añadiendo otras variables importantes como kills, kills múltiples y asistencias por rondas jugadas. <br>\n",
    "KAST (Kill, Assist, Survived, Traded) sirve para medir la eficacia de un jugador teniendo en cuenta variables que se consideran como positivas para el resultado de una ronda. <br> <br>\n",
    "*Nota: Traded significa que el jugador murió pero alguién de su equipo rápidamente mató al enemigo que lo asesinó, donde se dice que las muertes se \"tradean\", lo que usualmente deja en ventaja posicional al equipo que logra el trade.*"
   ]
  },
  {
   "cell_type": "code",
   "execution_count": null,
   "id": "6f5d004e",
   "metadata": {
    "colab": {
     "base_uri": "https://localhost:8080/",
     "height": 472
    },
    "id": "6f5d004e",
    "outputId": "5f8ffb14-8848-4dfd-f844-5d377337bbec"
   },
   "outputs": [
    {
     "data": {
      "image/png": "[encoded data removed]",
      "text/plain": [
       "<Figure size 640x480 with 1 Axes>"
      ]
     },
     "metadata": {},
     "output_type": "display_data"
    }
   ],
   "source": [
    "plt.scatter(filtered[\"ACS\"], filtered[\"KAST_Percent\"], marker=\".\")\n",
    "plt.title(\"ACS versus Porcentaje de KAST\")\n",
    "plt.xlabel(\"ACS\")\n",
    "plt.ylabel(\"Porcentaje de KAST\")\n",
    "plt.show()"
   ]
  },
  {
   "cell_type": "markdown",
   "id": "616f4676",
   "metadata": {
    "id": "616f4676"
   },
   "source": [
    "En este gráfico se puede observar que, si bien mientras crezca el ACS crecerá el KAST, existen muchos KAST altos para ACS relativamente bajos. Con esto, podemos concluir que no sería correcto clasificar un jugador sólo por su ACS, ya que puede tener impacto a través de otras variables no relacionadas al daño."
   ]
  },
  {
   "cell_type": "markdown",
   "id": "f02bf99e",
   "metadata": {
    "id": "f02bf99e"
   },
   "source": [
    "---\n",
    "**Gráfico 3: ACS por agente** <br>\n",
    "En este gráfico se presentan los agentes del juego, cada agente tiene habilidades para distintas utilidades dentro del juego."
   ]
  },
  {
   "cell_type": "code",
   "execution_count": null,
   "id": "ccd33ed7",
   "metadata": {
    "colab": {
     "base_uri": "https://localhost:8080/",
     "height": 842
    },
    "id": "ccd33ed7",
    "outputId": "243ad667-1d9d-4642-d28b-d00cf8b1701a",
    "scrolled": true
   },
   "outputs": [
    {
     "data": {
      "image/png": "[encoded data removed]",
      "text/plain": [
       "<Figure size 1800x1000 with 1 Axes>"
      ]
     },
     "metadata": {},
     "output_type": "display_data"
    }
   ],
   "source": [
    "newdf = filtered[[\"ACS\", \"Agent\"]]\n",
    "newdf = newdf[newdf.Agent != \"\"]\n",
    "newdf.boxplot(column=\"ACS\", by=\"Agent\", figsize=(18,10))\n",
    "plt.title(\"ACS por agente\")\n",
    "plt.suptitle(\"\")\n",
    "plt.xlabel(\"Agente\")\n",
    "plt.ylabel(\"ACS\")\n",
    "plt.show()"
   ]
  },
  {
   "cell_type": "markdown",
   "id": "f9f07efd",
   "metadata": {
    "id": "f9f07efd"
   },
   "source": [
    "Con este gráfico se puede notar que hay agentes que usualmente tienen mayor ACS, y conociéndo el juego, eso se puede atrubuir que las habilidades de esos agentes están enfocadas a obtener kills. Aún así, se aprecia que la media de ACS es más o menos similar en todos los agentes del juego.\n",
    "\n",
    "---"
   ]
  },
  {
   "cell_type": "markdown",
   "id": "f352e227",
   "metadata": {
    "id": "f352e227"
   },
   "source": [
    "**Gráfico 4: ACS promedio por Jugador** <br>\n",
    "Calculamos el promedio de ACS de todas las partidas registradas de los jugadores, y mostramos los mejores 10."
   ]
  },
  {
   "cell_type": "code",
   "execution_count": null,
   "id": "35e84606",
   "metadata": {
    "colab": {
     "base_uri": "https://localhost:8080/",
     "height": 531
    },
    "id": "35e84606",
    "outputId": "caa190c7-e85d-4b5d-b30f-293e8c34470a"
   },
   "outputs": [
    {
     "data": {
      "image/png": "[encoded data removed]",
      "text/plain": [
       "<Figure size 640x480 with 1 Axes>"
      ]
     },
     "metadata": {},
     "output_type": "display_data"
    },
    {
     "data": {
      "text/plain": [
       "<Figure size 600x1200 with 0 Axes>"
      ]
     },
     "metadata": {},
     "output_type": "display_data"
    }
   ],
   "source": [
    "acs_avg = filtered.groupby('PlayerName')['ACS'].mean().reset_index()\n",
    "\n",
    "top_10 = acs_avg.sort_values(by='ACS', ascending=False).head(10)\n",
    "\n",
    "plt.bar(top_10['PlayerName'], top_10['ACS'])\n",
    "plt.xlabel('Nombre del jugador')\n",
    "plt.ylabel('ACS Promedio')\n",
    "plt.title('Gráfico 3:Top 10 de jugadores con mejor ACS Promedio en VALORANT Champions 2021')\n",
    "\n",
    "plt.xticks(rotation=45, fontsize=10)\n",
    "plt.figure(figsize=(6,12))\n",
    "plt.subplots_adjust(bottom=0.4)\n",
    "\n",
    "plt.show()"
   ]
  },
  {
   "cell_type": "markdown",
   "id": "a2017e8f",
   "metadata": {
    "id": "a2017e8f"
   },
   "source": [
    "Con este gráfico podemos ver los jugadores profesionales con mejor promedio de ACS para luego ver sus demás estadísticas y encontrar distintas relaciones para clasificarlos."
   ]
  },
  {
   "cell_type": "markdown",
   "id": "6895b3e7",
   "metadata": {
    "id": "6895b3e7"
   },
   "source": [
    "# Preguntas y Problemas\n",
    "\n",
    "Dada la alta competitividad que existe actualmente en la escena de los eSports, podría ser muy útil para los equipos observar tendencias en las partidas profesionales, ya sea para inventar nuevas estrategias, identificar los mejores jugadores, generar elecciones óptimas de agentes, entre otros, para que así los equipos tomen las mejores decisiones y tengan más probabilidades de ganar. Podríamos plantearnos las siguientes preguntas para resolver con minería de datos:\n",
    "\n",
    "- ¿Podemos encontrar patrones para predecir qué equipo es más probable que gane?\n",
    "- ¿Qué características hace que un jugador tenga mayor impacto en el resultado de una partida?\n",
    "- Existen casos de jugadores que han parecido ser de élite usando un solo agente, pero resultan ser jugadores promedio cuando su personaje recibe nerfs[1]. ¿Es posible identificar cuando un jugador esta teniendo un alto rendimiento sólo debido al personaje que usa?\n",
    "\n",
    "*[1]: Los nerfs son cambios negativos que el desarrollador de un juego le hace a un personaje cuando identifica que el uso de ese personaje conlleva a una excesiva probabilidad de ganar. Los nerfs nunca se aplican en medio de un torneo.*"
   ]
  },
  {
   "cell_type": "markdown",
   "id": "31bb0a82",
   "metadata": {
    "id": "31bb0a82"
   },
   "source": [
    "Búsqueda del dataset: Cristóbal Isla y Nicolás Peña. <br>\n",
    "Informe: Carlos Ambiado, Cristóbal Isla, Felipe Jara, Nicolás Peña y Manuel Sepúlveda. <br>\n",
    "Gráficos y código: Carlos Ambiado, Felipe Jara y Cristóbal Isla. <br>"
   ]
  },
  {
   "cell_type": "markdown",
   "id": "MhysnbsdDb84",
   "metadata": {
    "id": "MhysnbsdDb84"
   },
   "source": [
    "# Hito 2:"
   ]
  },
  {
   "cell_type": "markdown",
   "id": "grmBtmEjDwwK",
   "metadata": {
    "id": "grmBtmEjDwwK"
   },
   "source": [
    "# Introducción\n",
    "\n",
    "Para este hito 2 continuamos trabajando sobre el mismo dataset anterior, el cuál consistía en estadísticas de partidas profesionales de VALORANT. Sin embargo, ahora que poseemos más conocimientos acerca de técnicas de minería de datos cambiaremos el enfoque de algunas preguntas, añadiendo algunas nuevas que pueden ser interesantes de analizar mediante técnicas supervisadas como los clasificadores o no supervisadas como el clustering. Para esto, se realizará nuevamente una exploración de los datos, considerando esta vez una limpieza de los mismos con el fin de eliminar columnas innecesarias de las tablas para poder trabajar de mejor forma las preguntas y así mejorar lo obtenido en el Hito 1."
   ]
  },
  {
   "cell_type": "markdown",
   "id": "frbkEhOdDzI7",
   "metadata": {
    "id": "frbkEhOdDzI7"
   },
   "source": [
    "# Exploración de Datos\n",
    "\n",
    "Los gráficos que hicimos nos dan una idea de como se relaciona el ACS con otras estadísticas, pero aún no lo relacionamos con la probabilidad de ganar una partida, lo que se explorará a continuación."
   ]
  },
  {
   "cell_type": "code",
   "execution_count": null,
   "id": "c3aNFkgH_fff",
   "metadata": {
    "colab": {
     "base_uri": "https://localhost:8080/",
     "height": 557
    },
    "id": "c3aNFkgH_fff",
    "outputId": "9c25dc5e-e224-4f8e-a877-a303b7a5d08e"
   },
   "outputs": [
    {
     "data": {
      "image/png": "[encoded data removed]",
      "text/plain": [
       "<Figure size 640x480 with 1 Axes>"
      ]
     },
     "metadata": {},
     "output_type": "display_data"
    },
    {
     "data": {
      "text/plain": [
       "<Figure size 600x1000 with 0 Axes>"
      ]
     },
     "metadata": {},
     "output_type": "display_data"
    }
   ],
   "source": [
    "#Top 10 winrates por equipo\n",
    "games_team1 = games.groupby([\"Team1\"])[\"Team1\"].count().reset_index(name=\"Count\")\n",
    "games_team2 = games.groupby([\"Team2\"])[\"Team2\"].count().reset_index(name=\"Count\")\n",
    "games_team1 = games_team1.rename(columns={\"Team1\": \"Team\"})\n",
    "games_team2 = games_team2.rename(columns={\"Team2\": \"Team\"})\n",
    "\n",
    "merged_df = pd.merge(games_team1, games_team2, on=\"Team\", how=\"inner\")\n",
    "merged_df\n",
    "merged_df[\"Games\"] = merged_df[\"Count_x\"] + merged_df[\"Count_y\"]\n",
    "merged_df = merged_df[[\"Team\", \"Games\"]]\n",
    "\n",
    "wins = games.groupby([\"Winner\"])[\"Winner\"].count().reset_index(name=\"Wins\")\n",
    "wins = wins.rename(columns = {\"Winner\": \"Team\"})\n",
    "\n",
    "win_rate = pd.merge(merged_df, wins, on=\"Team\", how=\"inner\")\n",
    "win_rate[\"Winrate\"] = win_rate[\"Wins\"] / win_rate[\"Games\"]\n",
    "win_rate['Games'] = win_rate['Games'].astype(int)\n",
    "win_rate = win_rate.loc[(win_rate[\"Games\"]) > 50]\n",
    "top_10 = win_rate.sort_values(by='Winrate', ascending=False).head(10)\n",
    "\n",
    "\n",
    "\n",
    "plt.bar(top_10[\"Team\"], top_10[\"Winrate\"])\n",
    "plt.title(\"ACS versus porcentaje de Victoria\")\n",
    "plt.xlabel(\"ACS\")\n",
    "plt.ylabel(\"Top 10 equipos por winrate\")\n",
    "\n",
    "plt.xticks(rotation=45, fontsize=8)\n",
    "plt.figure(figsize=(6,10))\n",
    "plt.subplots_adjust(bottom=0.4)\n",
    "\n",
    "plt.show()"
   ]
  },
  {
   "cell_type": "markdown",
   "id": "Kqj_VxmpK7Lo",
   "metadata": {
    "id": "Kqj_VxmpK7Lo"
   },
   "source": [
    "# Preguntas y Problemas\n",
    "\n",
    "Ahora que entendemos más las técnicas de minería de datos replanteamos nuestras preguntas para asi poder facilitar el desarrollo del proyecto. Las nuevas preguntas que se responderan son las siguientes:\n",
    "\n",
    "\n",
    "- ¿Podemos agrupar a los jugadores según su desempeño en diferentes mapas?\n",
    "- ¿Podemos identificar que equipo ganó de acuerdo a las estadísticas de una partida?\n",
    "- ¿Existen grupos/clusters de jugadores con características de rendimiento similares en términos de sus estadisticas?\n",
    "\n",
    "Para la segunda pregunta se planea crear un clasificador que, utilizando las estadisticas de una partida, pueda identificar el ganador de esta. Se creará un dataframe que contenga partidas y las estadisticas de sus jugadores como Kills, Deaths, ACS, etc. Luego, se aplicarán diferentes tecnicas de clasificación, como KNN, Arboles de decisión, Random Forests, etc. Se seleccionará el clasificador que mejor resultados entregue dentro de un dataset de testing, utilizando las metricas de Presicion, Recall, F1-score, entre otras. Se utilizan varias metricas porque se intentará llegar a un equilibrio.\n",
    "\n",
    "Para este hito, se decidió trabajar la propuesta experimental con la tercera pregunta, lo cual se detalla en la siguiente sección. La primera pregunta se trabajará de manera similar a la tercera, pero primero se agruparan los datos por el mapa jugado."
   ]
  },
  {
   "cell_type": "markdown",
   "id": "b76BpeA4EJr2",
   "metadata": {
    "id": "b76BpeA4EJr2"
   },
   "source": [
    "# Propuesta Experimental\n"
   ]
  },
  {
   "cell_type": "markdown",
   "id": "hDNXspxzz6fC",
   "metadata": {
    "id": "hDNXspxzz6fC"
   },
   "source": [
    "Para la primera pregunta se propone utilizar métodos de clustering, por lo que primero seleccionamos todo de la tabla game_scoreboard, la cual contiene las estadísticas de los jugadores:"
   ]
  },
  {
   "cell_type": "code",
   "execution_count": null,
   "id": "u4zSeGo6DcwM",
   "metadata": {
    "colab": {
     "base_uri": "https://localhost:8080/"
    },
    "id": "u4zSeGo6DcwM",
    "outputId": "8c398833-00b7-4ed9-9a4e-eebdf4e05412"
   },
   "outputs": [
    {
     "data": {
      "text/plain": [
       "Index(['GameID', 'PlayerID', 'PlayerName', 'TeamAbbreviation', 'Agent', 'ACS',\n",
       "       'Kills', 'Deaths', 'Assists', 'PlusMinus', 'KAST_Percent', 'ADR',\n",
       "       'HS_Percent', 'FirstKills', 'FirstDeaths', 'FKFD_PlusMinus', 'Num_2Ks',\n",
       "       'Num_3Ks', 'Num_4Ks', 'Num_5Ks', 'OnevOne', 'OnevTwo', 'OnevThree',\n",
       "       'OnevFour', 'OnevFive', 'Econ', 'Plants', 'Defuses'],\n",
       "      dtype='object')"
      ]
     },
     "execution_count": 50,
     "metadata": {},
     "output_type": "execute_result"
    }
   ],
   "source": [
    "con = sqlite3.connect(\"valorant.sqlite\")\n",
    "df = pd.read_sql_query(\"SELECT * FROM game_scoreboard\", con)\n",
    "con.close\n",
    "df.columns"
   ]
  },
  {
   "cell_type": "markdown",
   "id": "efp3oPFV0T54",
   "metadata": {
    "id": "efp3oPFV0T54"
   },
   "source": [
    "La siguiente tarea a realizar fue elegir las columnas que fueran relevantes para el experimento:"
   ]
  },
  {
   "cell_type": "code",
   "execution_count": null,
   "id": "ymmWeGHy0-A3",
   "metadata": {
    "colab": {
     "base_uri": "https://localhost:8080/",
     "height": 241
    },
    "id": "ymmWeGHy0-A3",
    "outputId": "f0feb40d-dd02-4eb3-c80b-77d45acdf329"
   },
   "outputs": [
    {
     "name": "stdout",
     "output_type": "stream",
     "text": [
      "(157939, 9)\n",
      "(148467, 9)\n"
     ]
    },
    {
     "data": {
      "text/html": [
       "\n",
       "  <div id=\"df-28815df3-41e3-4bc3-a7c9-9776f084ecd9\">\n",
       "    <div class=\"colab-df-container\">\n",
       "      <div>\n",
       "<style scoped>\n",
       "    .dataframe tbody tr th:only-of-type {\n",
       "        vertical-align: middle;\n",
       "    }\n",
       "\n",
       "    .dataframe tbody tr th {\n",
       "        vertical-align: top;\n",
       "    }\n",
       "\n",
       "    .dataframe thead th {\n",
       "        text-align: right;\n",
       "    }\n",
       "</style>\n",
       "<table border=\"1\" class=\"dataframe\">\n",
       "  <thead>\n",
       "    <tr style=\"text-align: right;\">\n",
       "      <th></th>\n",
       "      <th>Agent</th>\n",
       "      <th>ACS</th>\n",
       "      <th>Kills</th>\n",
       "      <th>Deaths</th>\n",
       "      <th>Assists</th>\n",
       "      <th>ADR</th>\n",
       "      <th>HS_Percent</th>\n",
       "      <th>FirstKills</th>\n",
       "      <th>FirstDeaths</th>\n",
       "    </tr>\n",
       "  </thead>\n",
       "  <tbody>\n",
       "    <tr>\n",
       "      <th>0</th>\n",
       "      <td>jett</td>\n",
       "      <td>313.0</td>\n",
       "      <td>24.0</td>\n",
       "      <td>10.0</td>\n",
       "      <td>3.0</td>\n",
       "      <td>195.0</td>\n",
       "      <td>0.31</td>\n",
       "      <td>4.0</td>\n",
       "      <td>4.0</td>\n",
       "    </tr>\n",
       "    <tr>\n",
       "      <th>1</th>\n",
       "      <td>chamber</td>\n",
       "      <td>227.0</td>\n",
       "      <td>16.0</td>\n",
       "      <td>10.0</td>\n",
       "      <td>7.0</td>\n",
       "      <td>161.0</td>\n",
       "      <td>0.16</td>\n",
       "      <td>1.0</td>\n",
       "      <td>1.0</td>\n",
       "    </tr>\n",
       "    <tr>\n",
       "      <th>2</th>\n",
       "      <td>sova</td>\n",
       "      <td>226.0</td>\n",
       "      <td>17.0</td>\n",
       "      <td>9.0</td>\n",
       "      <td>8.0</td>\n",
       "      <td>148.0</td>\n",
       "      <td>0.27</td>\n",
       "      <td>3.0</td>\n",
       "      <td>0.0</td>\n",
       "    </tr>\n",
       "    <tr>\n",
       "      <th>3</th>\n",
       "      <td>viper</td>\n",
       "      <td>218.0</td>\n",
       "      <td>17.0</td>\n",
       "      <td>12.0</td>\n",
       "      <td>2.0</td>\n",
       "      <td>141.0</td>\n",
       "      <td>0.19</td>\n",
       "      <td>3.0</td>\n",
       "      <td>0.0</td>\n",
       "    </tr>\n",
       "    <tr>\n",
       "      <th>4</th>\n",
       "      <td>skye</td>\n",
       "      <td>80.0</td>\n",
       "      <td>5.0</td>\n",
       "      <td>13.0</td>\n",
       "      <td>3.0</td>\n",
       "      <td>55.0</td>\n",
       "      <td>0.22</td>\n",
       "      <td>3.0</td>\n",
       "      <td>1.0</td>\n",
       "    </tr>\n",
       "  </tbody>\n",
       "</table>\n",
       "</div>\n",
       "      <button class=\"colab-df-convert\" onclick=\"convertToInteractive('df-28815df3-41e3-4bc3-a7c9-9776f084ecd9')\"\n",
       "              title=\"Convert this dataframe to an interactive table.\"\n",
       "              style=\"display:none;\">\n",
       "        \n",
       "  <svg xmlns=\"http://www.w3.org/2000/svg\" height=\"24px\"viewBox=\"0 0 24 24\"\n",
       "       width=\"24px\">\n",
       "    <path d=\"M0 0h24v24H0V0z\" fill=\"none\"/>\n",
       "    <path d=\"M18.56 5.44l.94 2.06.94-2.06 2.06-.94-2.06-.94-.94-2.06-.94 2.06-2.06.94zm-11 1L8.5 8.5l.94-2.06 2.06-.94-2.06-.94L8.5 2.5l-.94 2.06-2.06.94zm10 10l.94 2.06.94-2.06 2.06-.94-2.06-.94-.94-2.06-.94 2.06-2.06.94z\"/><path d=\"M17.41 7.96l-1.37-1.37c-.4-.4-.92-.59-1.43-.59-.52 0-1.04.2-1.43.59L10.3 9.45l-7.72 7.72c-.78.78-.78 2.05 0 2.83L4 21.41c.39.39.9.59 1.41.59.51 0 1.02-.2 1.41-.59l7.78-7.78 2.81-2.81c.8-.78.8-2.07 0-2.86zM5.41 20L4 18.59l7.72-7.72 1.47 1.35L5.41 20z\"/>\n",
       "  </svg>\n",
       "      </button>\n",
       "      \n",
       "  <style>\n",
       "    .colab-df-container {\n",
       "      display:flex;\n",
       "      flex-wrap:wrap;\n",
       "      gap: 12px;\n",
       "    }\n",
       "\n",
       "    .colab-df-convert {\n",
       "      background-color: #E8F0FE;\n",
       "      border: none;\n",
       "      border-radius: 50%;\n",
       "      cursor: pointer;\n",
       "      display: none;\n",
       "      fill: #1967D2;\n",
       "      height: 32px;\n",
       "      padding: 0 0 0 0;\n",
       "      width: 32px;\n",
       "    }\n",
       "\n",
       "    .colab-df-convert:hover {\n",
       "      background-color: #E2EBFA;\n",
       "      box-shadow: 0px 1px 2px rgba(60, 64, 67, 0.3), 0px 1px 3px 1px rgba(60, 64, 67, 0.15);\n",
       "      fill: #174EA6;\n",
       "    }\n",
       "\n",
       "    [theme=dark] .colab-df-convert {\n",
       "      background-color: #3B4455;\n",
       "      fill: #D2E3FC;\n",
       "    }\n",
       "\n",
       "    [theme=dark] .colab-df-convert:hover {\n",
       "      background-color: #434B5C;\n",
       "      box-shadow: 0px 1px 3px 1px rgba(0, 0, 0, 0.15);\n",
       "      filter: drop-shadow(0px 1px 2px rgba(0, 0, 0, 0.3));\n",
       "      fill: #FFFFFF;\n",
       "    }\n",
       "  </style>\n",
       "\n",
       "      <script>\n",
       "        const buttonEl =\n",
       "          document.querySelector('#df-28815df3-41e3-4bc3-a7c9-9776f084ecd9 button.colab-df-convert');\n",
       "        buttonEl.style.display =\n",
       "          google.colab.kernel.accessAllowed ? 'block' : 'none';\n",
       "\n",
       "        async function convertToInteractive(key) {\n",
       "          const element = document.querySelector('#df-28815df3-41e3-4bc3-a7c9-9776f084ecd9');\n",
       "          const dataTable =\n",
       "            await google.colab.kernel.invokeFunction('convertToInteractive',\n",
       "                                                     [key], {});\n",
       "          if (!dataTable) return;\n",
       "\n",
       "          const docLinkHtml = 'Like what you see? Visit the ' +\n",
       "            '<a target=\"_blank\" href=https://colab.research.google.com/notebooks/data_table.ipynb>data table notebook</a>'\n",
       "            + ' to learn more about interactive tables.';\n",
       "          element.innerHTML = '';\n",
       "          dataTable['output_type'] = 'display_data';\n",
       "          await google.colab.output.renderOutput(dataTable, element);\n",
       "          const docLink = document.createElement('div');\n",
       "          docLink.innerHTML = docLinkHtml;\n",
       "          element.appendChild(docLink);\n",
       "        }\n",
       "      </script>\n",
       "    </div>\n",
       "  </div>\n",
       "  "
      ],
      "text/plain": [
       "     Agent    ACS  Kills  Deaths  Assists    ADR  HS_Percent  FirstKills  \\\n",
       "0     jett  313.0   24.0    10.0      3.0  195.0        0.31         4.0   \n",
       "1  chamber  227.0   16.0    10.0      7.0  161.0        0.16         1.0   \n",
       "2     sova  226.0   17.0     9.0      8.0  148.0        0.27         3.0   \n",
       "3    viper  218.0   17.0    12.0      2.0  141.0        0.19         3.0   \n",
       "4     skye   80.0    5.0    13.0      3.0   55.0        0.22         3.0   \n",
       "\n",
       "   FirstDeaths  \n",
       "0          4.0  \n",
       "1          1.0  \n",
       "2          0.0  \n",
       "3          0.0  \n",
       "4          1.0  "
      ]
     },
     "execution_count": 51,
     "metadata": {},
     "output_type": "execute_result"
    }
   ],
   "source": [
    "df = df[[\"Agent\", \"ACS\", \"Kills\", \"Deaths\", \"Assists\", \"ADR\", \"HS_Percent\", \"FirstKills\", \"FirstDeaths\"]]\n",
    "print(df.shape)\n",
    "df=df[df[\"Agent\"]!=\"\"]\n",
    "df.dropna(inplace=True)\n",
    "print(df.shape)\n",
    "df.head()"
   ]
  },
  {
   "cell_type": "markdown",
   "id": "MDTnGZ5948fn",
   "metadata": {
    "id": "MDTnGZ5948fn"
   },
   "source": [
    "Luego, se transformaron los datos de tipo categórico a datos de tipo discreto:"
   ]
  },
  {
   "cell_type": "code",
   "execution_count": null,
   "id": "qRFQ-iuz5Nc2",
   "metadata": {
    "colab": {
     "base_uri": "https://localhost:8080/"
    },
    "id": "qRFQ-iuz5Nc2",
    "outputId": "43977818-0751-41f4-8cf7-4266dbd06fb2"
   },
   "outputs": [
    {
     "data": {
      "text/plain": [
       "Index(['ACS', 'Kills', 'Deaths', 'Assists', 'ADR', 'HS_Percent', 'FirstKills',\n",
       "       'FirstDeaths', 'agent_astra', 'agent_breach', 'agent_brimstone',\n",
       "       'agent_chamber', 'agent_cypher', 'agent_jett', 'agent_kayo',\n",
       "       'agent_killjoy', 'agent_omen', 'agent_phoenix', 'agent_raze',\n",
       "       'agent_reyna', 'agent_sage', 'agent_skye', 'agent_sova', 'agent_viper',\n",
       "       'agent_yoru'],\n",
       "      dtype='object')"
      ]
     },
     "execution_count": 52,
     "metadata": {},
     "output_type": "execute_result"
    }
   ],
   "source": [
    "df_agent = pd.get_dummies(df[\"Agent\"], prefix=\"agent\", prefix_sep=\"_\")\n",
    "X = pd.concat([df, df_agent], axis=1).drop('Agent', axis=1)\n",
    "X.columns"
   ]
  },
  {
   "cell_type": "markdown",
   "id": "EYGm_QJW5Txf",
   "metadata": {
    "id": "EYGm_QJW5Txf"
   },
   "source": [
    "Para la siguiente parte, se utilizaron dos métodos de clustering, estos fueron el método de K-means y el método de DBSCAN.\n",
    "\n",
    "# K-means"
   ]
  },
  {
   "cell_type": "code",
   "execution_count": null,
   "id": "f3e-In8G5oH9",
   "metadata": {
    "colab": {
     "base_uri": "https://localhost:8080/",
     "height": 452
    },
    "id": "f3e-In8G5oH9",
    "outputId": "c56d9af7-4ade-4a15-a808-1b0ee1412528"
   },
   "outputs": [
    {
     "data": {
      "image/png": "[encoded data removed]",
      "text/plain": [
       "<Figure size 640x480 with 1 Axes>"
      ]
     },
     "metadata": {},
     "output_type": "display_data"
    }
   ],
   "source": [
    "import matplotlib.pyplot as plt\n",
    "from sklearn.cluster import KMeans\n",
    "\n",
    "#Se usa el metodo del codo para ver cuantos clusters utilizar\n",
    "\n",
    "sse = []\n",
    "\n",
    "clusters = list(range(1, 16))\n",
    "for k in clusters:\n",
    "    kmeans = KMeans(n_clusters=k,n_init='auto').fit(X)\n",
    "    sse.append(kmeans.inertia_)\n",
    "\n",
    "plt.plot(clusters, sse, marker=\"o\")\n",
    "plt.title(\"Metodo del codo de 1 a 15 clusters\")\n",
    "plt.grid(True)\n",
    "plt.show()"
   ]
  },
  {
   "cell_type": "markdown",
   "id": "6LXVbaqe6A5F",
   "metadata": {
    "id": "6LXVbaqe6A5F"
   },
   "source": [
    "Al observar el gráfico del método del codo, se encontraron dos puntos de inflexión destacados: uno en 4 clusters y otro en 6 clusters. Estos valores fueron seleccionados como candidatos para realizar el análisis de clustering."
   ]
  },
  {
   "cell_type": "code",
   "execution_count": null,
   "id": "rjrxvnIu6XiG",
   "metadata": {
    "id": "rjrxvnIu6XiG"
   },
   "outputs": [],
   "source": [
    "kmeans4 = KMeans(n_clusters=4, n_init='auto').fit(X)\n",
    "kmeans6 = KMeans(n_clusters=6, n_init='auto').fit(X)"
   ]
  },
  {
   "cell_type": "markdown",
   "id": "1yCGdzcC-e4l",
   "metadata": {
    "id": "1yCGdzcC-e4l"
   },
   "source": [
    "Una vez seleccionados los valores de clusters óptimos utilizando el método del codo (4 y 6 clusters en nuestro caso), se procedió a realizar un análisis de componentes principales (PCA) en los datos para reducir su dimensionalidad y permitir una mejor visualización de los resultados del clustering:"
   ]
  },
  {
   "cell_type": "code",
   "execution_count": null,
   "id": "V9RCimSE_nF7",
   "metadata": {
    "id": "V9RCimSE_nF7"
   },
   "outputs": [],
   "source": [
    "from sklearn.decomposition import PCA\n",
    "new_X = PCA(n_components=2, random_state=0).fit_transform(X)"
   ]
  },
  {
   "cell_type": "markdown",
   "id": "St_6iPTA_rcf",
   "metadata": {
    "id": "St_6iPTA_rcf"
   },
   "source": [
    "Luego, con estos datos se realizaron los gráficos con 4 y 6 clusters respectivamente:"
   ]
  },
  {
   "cell_type": "code",
   "execution_count": null,
   "id": "IDRCj71r_oV0",
   "metadata": {
    "colab": {
     "base_uri": "https://localhost:8080/",
     "height": 452
    },
    "id": "IDRCj71r_oV0",
    "outputId": "da0a4b33-82f0-46db-f89e-d47221497456",
    "scrolled": true
   },
   "outputs": [
    {
     "data": {
      "image/png": "[encoded data removed]",
      "text/plain": [
       "<Figure size 640x480 with 1 Axes>"
      ]
     },
     "metadata": {},
     "output_type": "display_data"
    }
   ],
   "source": [
    "plt.scatter(new_X[:, 0], new_X[:, 1], c=kmeans4.labels_)\n",
    "plt.title(\"K-Means\")\n",
    "plt.show()"
   ]
  },
  {
   "cell_type": "code",
   "execution_count": null,
   "id": "39d1e067",
   "metadata": {
    "colab": {
     "base_uri": "https://localhost:8080/",
     "height": 452
    },
    "id": "39d1e067",
    "outputId": "00293bae-9bc7-4f00-862a-abb8b9a1c7fe"
   },
   "outputs": [
    {
     "data": {
      "image/png": "[encoded data removed]",
      "text/plain": [
       "<Figure size 640x480 with 1 Axes>"
      ]
     },
     "metadata": {},
     "output_type": "display_data"
    }
   ],
   "source": [
    "plt.scatter(new_X[:, 0], new_X[:, 1], c=kmeans6.labels_)\n",
    "plt.title(\"K-Means\")\n",
    "plt.show()"
   ]
  },
  {
   "cell_type": "markdown",
   "id": "f01f90ac",
   "metadata": {
    "id": "f01f90ac"
   },
   "source": [
    "Por último, se evaluaron los resultados obtenidos utilizando el índice de Silhouette en ambos clusters."
   ]
  },
  {
   "cell_type": "code",
   "execution_count": null,
   "id": "2e991afe",
   "metadata": {
    "colab": {
     "background_save": true,
     "base_uri": "https://localhost:8080/"
    },
    "id": "2e991afe",
    "outputId": "46eea7e7-7a7a-4027-c0ff-0bc81cf34d08"
   },
   "outputs": [
    {
     "name": "stdout",
     "output_type": "stream",
     "text": [
      "K-Means 4 clusters\t 0.4307718665326056\n",
      "K-Means 6 clusters\t 0.3813376741245261\n"
     ]
    }
   ],
   "source": [
    "from sklearn.metrics import silhouette_score\n",
    "print(\"K-Means 4 clusters\\t\", silhouette_score(X, kmeans4.labels_))\n",
    "print(\"K-Means 6 clusters\\t\", silhouette_score(X, kmeans6.labels_))"
   ]
  },
  {
   "cell_type": "markdown",
   "id": "bVq0ByX4pTI8",
   "metadata": {
    "id": "bVq0ByX4pTI8"
   },
   "source": [
    "Para el algoritmo K-Means con 4 clusters, se obtuvo un valor de índice de Silhouette de 0.430, en cambio, el índice de Silhouette obtenido con 6 clusters fue de 0.381.\n",
    "Aunque ambos valores son positivos, lo cual sugiere una estructura de clusters en los datos, el índice de Silhouette más alto obtenido con 4 clusters indica una mejor calidad en términos de separación y cohesión de los grupos."
   ]
  },
  {
   "cell_type": "markdown",
   "id": "666f6dc0",
   "metadata": {
    "id": "666f6dc0"
   },
   "source": [
    "# DBSCAN\n",
    "A continuación se explica la utilización del método de DBSCAN para realizar el clustering sobre el mismo dataset.\n",
    "\n",
    "Para comenzar con DBSCAN, es necesario determinar un parámetro llamado eps, que representa la distancia máxima permitida entre dos puntos para que se consideren vecinos. Para encontrar un valor óptimo de eps, se utilizó el método de la rodilla."
   ]
  },
  {
   "cell_type": "code",
   "execution_count": null,
   "id": "74c88913",
   "metadata": {
    "colab": {
     "background_save": true
    },
    "id": "74c88913",
    "outputId": "07ce2d63-bace-43df-ecee-bfc43ef24953"
   },
   "outputs": [
    {
     "data": {
      "text/plain": [
       "[<matplotlib.lines.Line2D at 0x7fbcd044dbd0>]"
      ]
     },
     "execution_count": 119,
     "metadata": {},
     "output_type": "execute_result"
    },
    {
     "data": {
      "image/png": "[encoded data removed]",
      "text/plain": [
       "<Figure size 640x480 with 1 Axes>"
      ]
     },
     "metadata": {},
     "output_type": "display_data"
    }
   ],
   "source": [
    "from sklearn.neighbors import NearestNeighbors\n",
    "import numpy as np\n",
    "\n",
    "nbrs = NearestNeighbors(n_neighbors=3).fit(X)\n",
    "distances, indices = nbrs.kneighbors(X)\n",
    "\n",
    "distances = np.sort(distances, axis=0)\n",
    "distances = distances[:,1]\n",
    "plt.plot(distances)"
   ]
  },
  {
   "cell_type": "markdown",
   "id": "6d478a5d",
   "metadata": {
    "id": "6d478a5d"
   },
   "source": [
    "Con el método de la rodilla se estima que el eps óptimo es 6, esto significa que se considerarán como vecinos a los puntos que estén a una distancia máxima de 6 unidades entre sí."
   ]
  },
  {
   "cell_type": "code",
   "execution_count": null,
   "id": "7ffab2de",
   "metadata": {
    "colab": {
     "background_save": true
    },
    "id": "7ffab2de",
    "outputId": "5e0ff23d-bb62-4792-d22a-fd9501a8bb7d"
   },
   "outputs": [
    {
     "data": {
      "text/plain": [
       "[<matplotlib.lines.Line2D at 0x7fbcd361a9b0>]"
      ]
     },
     "execution_count": 120,
     "metadata": {},
     "output_type": "execute_result"
    },
    {
     "data": {
      "image/png": "[encoded data removed]",
      "text/plain": [
       "<Figure size 640x480 with 1 Axes>"
      ]
     },
     "metadata": {},
     "output_type": "display_data"
    }
   ],
   "source": [
    "eps_estimation = 6\n",
    "\n",
    "plt.axhline(y=eps_estimation, color='r', linestyle='--')\n",
    "plt.plot(distances)"
   ]
  },
  {
   "cell_type": "markdown",
   "id": "8250dc09",
   "metadata": {
    "id": "8250dc09"
   },
   "source": [
    "Ahora, se ejecutan los clusters utilizando el valor `eps` estimado."
   ]
  },
  {
   "cell_type": "code",
   "execution_count": null,
   "id": "18bf9a0c",
   "metadata": {
    "colab": {
     "background_save": true
    },
    "id": "18bf9a0c",
    "outputId": "fb674551-7317-4264-8bbe-5d961a112d35"
   },
   "outputs": [
    {
     "data": {
      "image/png": "[encoded data removed]",
      "text/plain": [
       "<Figure size 640x480 with 1 Axes>"
      ]
     },
     "metadata": {},
     "output_type": "display_data"
    }
   ],
   "source": [
    "from sklearn.cluster import DBSCAN\n",
    "\n",
    "min_samples = 5\n",
    "\n",
    "dbscan = DBSCAN(eps=eps_estimation, min_samples=min_samples).fit(X)\n",
    "plt.scatter(new_X[:,0], new_X[:,1], c=dbscan.labels_)\n",
    "plt.title(f\"DBSCAN: eps={eps_estimation}, min_samples={min_samples}\")\n",
    "plt.show()"
   ]
  },
  {
   "cell_type": "markdown",
   "id": "fd1df033",
   "metadata": {
    "id": "fd1df033"
   },
   "source": [
    "Al igual que para el método anterior, calculamos el índice de Silhouette asociado para evaluar el cluster."
   ]
  },
  {
   "cell_type": "code",
   "execution_count": null,
   "id": "302221f2",
   "metadata": {
    "id": "302221f2"
   },
   "outputs": [],
   "source": [
    "print(\"DBSCAN\\t\", silhouette_score(X, dbscan.labels_))"
   ]
  },
  {
   "cell_type": "markdown",
   "id": "57eOxgLUuCoW",
   "metadata": {
    "id": "57eOxgLUuCoW"
   },
   "source": [
    "Como se puede observar, el índice de Silhouette obtenido con DBSCAN es muy bajo, siendo negativo e incluso relativamente cercano a -1, lo cual indica una calidad de clustering bastante baja. Esto puede ser debido a varias razones, como la densidad de los datos, una mala elección de parámetros o por la propia naturaleza de los datos, sin embargo como se utilizó un método visto en clases para determinar el eps, consideramos que el motivo debe ser la primera o tercera opción. Por lo tanto, concluimos que el clustering realizado con DBSCAN no es apropiado para abordar esta pregunta con nuestros datos."
   ]
  },
  {
   "cell_type": "markdown",
   "id": "b31f163e",
   "metadata": {
    "id": "b31f163e"
   },
   "source": [
    "## Exploración de los resultados\n",
    "\n",
    "Con el cálculo del índice de Silhouette para ambos métodos se puede ver que K-Means con 4 clusters es el que da mejores resultados, con un índice de 0.430. A continuación se exploraron los clusters generados por este método.\n",
    "\n",
    "Lo primero que se hizo fue agregar una columna con el cluster respectivo de cada fila."
   ]
  },
  {
   "cell_type": "code",
   "execution_count": null,
   "id": "4tLOwLg9Pt0C",
   "metadata": {
    "colab": {
     "base_uri": "https://localhost:8080/",
     "height": 175
    },
    "id": "4tLOwLg9Pt0C",
    "outputId": "401b7c41-ed4b-4003-efce-756ebc1ebfc2"
   },
   "outputs": [
    {
     "data": {
      "text/html": [
       "\n",
       "  <div id=\"df-e49f612d-844b-4b53-916b-2c5136cc1b57\">\n",
       "    <div class=\"colab-df-container\">\n",
       "      <div>\n",
       "<style scoped>\n",
       "    .dataframe tbody tr th:only-of-type {\n",
       "        vertical-align: middle;\n",
       "    }\n",
       "\n",
       "    .dataframe tbody tr th {\n",
       "        vertical-align: top;\n",
       "    }\n",
       "\n",
       "    .dataframe thead th {\n",
       "        text-align: right;\n",
       "    }\n",
       "</style>\n",
       "<table border=\"1\" class=\"dataframe\">\n",
       "  <thead>\n",
       "    <tr style=\"text-align: right;\">\n",
       "      <th></th>\n",
       "      <th>Cluster</th>\n",
       "      <th>ACS</th>\n",
       "    </tr>\n",
       "  </thead>\n",
       "  <tbody>\n",
       "    <tr>\n",
       "      <th>0</th>\n",
       "      <td>0</td>\n",
       "      <td>183.963256</td>\n",
       "    </tr>\n",
       "    <tr>\n",
       "      <th>1</th>\n",
       "      <td>1</td>\n",
       "      <td>318.593746</td>\n",
       "    </tr>\n",
       "    <tr>\n",
       "      <th>2</th>\n",
       "      <td>2</td>\n",
       "      <td>125.028823</td>\n",
       "    </tr>\n",
       "    <tr>\n",
       "      <th>3</th>\n",
       "      <td>3</td>\n",
       "      <td>241.126755</td>\n",
       "    </tr>\n",
       "  </tbody>\n",
       "</table>\n",
       "</div>\n",
       "      <button class=\"colab-df-convert\" onclick=\"convertToInteractive('df-e49f612d-844b-4b53-916b-2c5136cc1b57')\"\n",
       "              title=\"Convert this dataframe to an interactive table.\"\n",
       "              style=\"display:none;\">\n",
       "        \n",
       "  <svg xmlns=\"http://www.w3.org/2000/svg\" height=\"24px\"viewBox=\"0 0 24 24\"\n",
       "       width=\"24px\">\n",
       "    <path d=\"M0 0h24v24H0V0z\" fill=\"none\"/>\n",
       "    <path d=\"M18.56 5.44l.94 2.06.94-2.06 2.06-.94-2.06-.94-.94-2.06-.94 2.06-2.06.94zm-11 1L8.5 8.5l.94-2.06 2.06-.94-2.06-.94L8.5 2.5l-.94 2.06-2.06.94zm10 10l.94 2.06.94-2.06 2.06-.94-2.06-.94-.94-2.06-.94 2.06-2.06.94z\"/><path d=\"M17.41 7.96l-1.37-1.37c-.4-.4-.92-.59-1.43-.59-.52 0-1.04.2-1.43.59L10.3 9.45l-7.72 7.72c-.78.78-.78 2.05 0 2.83L4 21.41c.39.39.9.59 1.41.59.51 0 1.02-.2 1.41-.59l7.78-7.78 2.81-2.81c.8-.78.8-2.07 0-2.86zM5.41 20L4 18.59l7.72-7.72 1.47 1.35L5.41 20z\"/>\n",
       "  </svg>\n",
       "      </button>\n",
       "      \n",
       "  <style>\n",
       "    .colab-df-container {\n",
       "      display:flex;\n",
       "      flex-wrap:wrap;\n",
       "      gap: 12px;\n",
       "    }\n",
       "\n",
       "    .colab-df-convert {\n",
       "      background-color: #E8F0FE;\n",
       "      border: none;\n",
       "      border-radius: 50%;\n",
       "      cursor: pointer;\n",
       "      display: none;\n",
       "      fill: #1967D2;\n",
       "      height: 32px;\n",
       "      padding: 0 0 0 0;\n",
       "      width: 32px;\n",
       "    }\n",
       "\n",
       "    .colab-df-convert:hover {\n",
       "      background-color: #E2EBFA;\n",
       "      box-shadow: 0px 1px 2px rgba(60, 64, 67, 0.3), 0px 1px 3px 1px rgba(60, 64, 67, 0.15);\n",
       "      fill: #174EA6;\n",
       "    }\n",
       "\n",
       "    [theme=dark] .colab-df-convert {\n",
       "      background-color: #3B4455;\n",
       "      fill: #D2E3FC;\n",
       "    }\n",
       "\n",
       "    [theme=dark] .colab-df-convert:hover {\n",
       "      background-color: #434B5C;\n",
       "      box-shadow: 0px 1px 3px 1px rgba(0, 0, 0, 0.15);\n",
       "      filter: drop-shadow(0px 1px 2px rgba(0, 0, 0, 0.3));\n",
       "      fill: #FFFFFF;\n",
       "    }\n",
       "  </style>\n",
       "\n",
       "      <script>\n",
       "        const buttonEl =\n",
       "          document.querySelector('#df-e49f612d-844b-4b53-916b-2c5136cc1b57 button.colab-df-convert');\n",
       "        buttonEl.style.display =\n",
       "          google.colab.kernel.accessAllowed ? 'block' : 'none';\n",
       "\n",
       "        async function convertToInteractive(key) {\n",
       "          const element = document.querySelector('#df-e49f612d-844b-4b53-916b-2c5136cc1b57');\n",
       "          const dataTable =\n",
       "            await google.colab.kernel.invokeFunction('convertToInteractive',\n",
       "                                                     [key], {});\n",
       "          if (!dataTable) return;\n",
       "\n",
       "          const docLinkHtml = 'Like what you see? Visit the ' +\n",
       "            '<a target=\"_blank\" href=https://colab.research.google.com/notebooks/data_table.ipynb>data table notebook</a>'\n",
       "            + ' to learn more about interactive tables.';\n",
       "          element.innerHTML = '';\n",
       "          dataTable['output_type'] = 'display_data';\n",
       "          await google.colab.output.renderOutput(dataTable, element);\n",
       "          const docLink = document.createElement('div');\n",
       "          docLink.innerHTML = docLinkHtml;\n",
       "          element.appendChild(docLink);\n",
       "        }\n",
       "      </script>\n",
       "    </div>\n",
       "  </div>\n",
       "  "
      ],
      "text/plain": [
       "   Cluster         ACS\n",
       "0        0  183.963256\n",
       "1        1  318.593746\n",
       "2        2  125.028823\n",
       "3        3  241.126755"
      ]
     },
     "execution_count": 99,
     "metadata": {},
     "output_type": "execute_result"
    }
   ],
   "source": [
    "df['Cluster'] = kmeans4.labels_\n",
    "df.groupby('Cluster')['ACS'].mean().reset_index()"
   ]
  },
  {
   "cell_type": "markdown",
   "id": "rx9cafX-VTb5",
   "metadata": {
    "id": "rx9cafX-VTb5"
   },
   "source": [
    "Ahora se muestran los promedios de alguna de las estadísticas de cada cluster."
   ]
  },
  {
   "cell_type": "code",
   "execution_count": null,
   "id": "dc8bed5d",
   "metadata": {
    "colab": {
     "base_uri": "https://localhost:8080/",
     "height": 175
    },
    "id": "dc8bed5d",
    "outputId": "2cd318d0-642d-4fce-90d6-121471757850"
   },
   "outputs": [
    {
     "data": {
      "text/html": [
       "\n",
       "  <div id=\"df-2e7a0423-a812-4e72-9082-36695f7ed9c6\">\n",
       "    <div class=\"colab-df-container\">\n",
       "      <div>\n",
       "<style scoped>\n",
       "    .dataframe tbody tr th:only-of-type {\n",
       "        vertical-align: middle;\n",
       "    }\n",
       "\n",
       "    .dataframe tbody tr th {\n",
       "        vertical-align: top;\n",
       "    }\n",
       "\n",
       "    .dataframe thead th {\n",
       "        text-align: right;\n",
       "    }\n",
       "</style>\n",
       "<table border=\"1\" class=\"dataframe\">\n",
       "  <thead>\n",
       "    <tr style=\"text-align: right;\">\n",
       "      <th></th>\n",
       "      <th>Cluster</th>\n",
       "      <th>Kills</th>\n",
       "    </tr>\n",
       "  </thead>\n",
       "  <tbody>\n",
       "    <tr>\n",
       "      <th>0</th>\n",
       "      <td>0</td>\n",
       "      <td>13.294695</td>\n",
       "    </tr>\n",
       "    <tr>\n",
       "      <th>1</th>\n",
       "      <td>1</td>\n",
       "      <td>22.303426</td>\n",
       "    </tr>\n",
       "    <tr>\n",
       "      <th>2</th>\n",
       "      <td>2</td>\n",
       "      <td>8.260464</td>\n",
       "    </tr>\n",
       "    <tr>\n",
       "      <th>3</th>\n",
       "      <td>3</td>\n",
       "      <td>17.749887</td>\n",
       "    </tr>\n",
       "  </tbody>\n",
       "</table>\n",
       "</div>\n",
       "      <button class=\"colab-df-convert\" onclick=\"convertToInteractive('df-2e7a0423-a812-4e72-9082-36695f7ed9c6')\"\n",
       "              title=\"Convert this dataframe to an interactive table.\"\n",
       "              style=\"display:none;\">\n",
       "        \n",
       "  <svg xmlns=\"http://www.w3.org/2000/svg\" height=\"24px\"viewBox=\"0 0 24 24\"\n",
       "       width=\"24px\">\n",
       "    <path d=\"M0 0h24v24H0V0z\" fill=\"none\"/>\n",
       "    <path d=\"M18.56 5.44l.94 2.06.94-2.06 2.06-.94-2.06-.94-.94-2.06-.94 2.06-2.06.94zm-11 1L8.5 8.5l.94-2.06 2.06-.94-2.06-.94L8.5 2.5l-.94 2.06-2.06.94zm10 10l.94 2.06.94-2.06 2.06-.94-2.06-.94-.94-2.06-.94 2.06-2.06.94z\"/><path d=\"M17.41 7.96l-1.37-1.37c-.4-.4-.92-.59-1.43-.59-.52 0-1.04.2-1.43.59L10.3 9.45l-7.72 7.72c-.78.78-.78 2.05 0 2.83L4 21.41c.39.39.9.59 1.41.59.51 0 1.02-.2 1.41-.59l7.78-7.78 2.81-2.81c.8-.78.8-2.07 0-2.86zM5.41 20L4 18.59l7.72-7.72 1.47 1.35L5.41 20z\"/>\n",
       "  </svg>\n",
       "      </button>\n",
       "      \n",
       "  <style>\n",
       "    .colab-df-container {\n",
       "      display:flex;\n",
       "      flex-wrap:wrap;\n",
       "      gap: 12px;\n",
       "    }\n",
       "\n",
       "    .colab-df-convert {\n",
       "      background-color: #E8F0FE;\n",
       "      border: none;\n",
       "      border-radius: 50%;\n",
       "      cursor: pointer;\n",
       "      display: none;\n",
       "      fill: #1967D2;\n",
       "      height: 32px;\n",
       "      padding: 0 0 0 0;\n",
       "      width: 32px;\n",
       "    }\n",
       "\n",
       "    .colab-df-convert:hover {\n",
       "      background-color: #E2EBFA;\n",
       "      box-shadow: 0px 1px 2px rgba(60, 64, 67, 0.3), 0px 1px 3px 1px rgba(60, 64, 67, 0.15);\n",
       "      fill: #174EA6;\n",
       "    }\n",
       "\n",
       "    [theme=dark] .colab-df-convert {\n",
       "      background-color: #3B4455;\n",
       "      fill: #D2E3FC;\n",
       "    }\n",
       "\n",
       "    [theme=dark] .colab-df-convert:hover {\n",
       "      background-color: #434B5C;\n",
       "      box-shadow: 0px 1px 3px 1px rgba(0, 0, 0, 0.15);\n",
       "      filter: drop-shadow(0px 1px 2px rgba(0, 0, 0, 0.3));\n",
       "      fill: #FFFFFF;\n",
       "    }\n",
       "  </style>\n",
       "\n",
       "      <script>\n",
       "        const buttonEl =\n",
       "          document.querySelector('#df-2e7a0423-a812-4e72-9082-36695f7ed9c6 button.colab-df-convert');\n",
       "        buttonEl.style.display =\n",
       "          google.colab.kernel.accessAllowed ? 'block' : 'none';\n",
       "\n",
       "        async function convertToInteractive(key) {\n",
       "          const element = document.querySelector('#df-2e7a0423-a812-4e72-9082-36695f7ed9c6');\n",
       "          const dataTable =\n",
       "            await google.colab.kernel.invokeFunction('convertToInteractive',\n",
       "                                                     [key], {});\n",
       "          if (!dataTable) return;\n",
       "\n",
       "          const docLinkHtml = 'Like what you see? Visit the ' +\n",
       "            '<a target=\"_blank\" href=https://colab.research.google.com/notebooks/data_table.ipynb>data table notebook</a>'\n",
       "            + ' to learn more about interactive tables.';\n",
       "          element.innerHTML = '';\n",
       "          dataTable['output_type'] = 'display_data';\n",
       "          await google.colab.output.renderOutput(dataTable, element);\n",
       "          const docLink = document.createElement('div');\n",
       "          docLink.innerHTML = docLinkHtml;\n",
       "          element.appendChild(docLink);\n",
       "        }\n",
       "      </script>\n",
       "    </div>\n",
       "  </div>\n",
       "  "
      ],
      "text/plain": [
       "   Cluster      Kills\n",
       "0        0  13.294695\n",
       "1        1  22.303426\n",
       "2        2   8.260464\n",
       "3        3  17.749887"
      ]
     },
     "execution_count": 74,
     "metadata": {},
     "output_type": "execute_result"
    }
   ],
   "source": [
    "df.groupby('Cluster')['Kills'].mean().reset_index()"
   ]
  },
  {
   "cell_type": "code",
   "execution_count": null,
   "id": "LulcnupFSFtD",
   "metadata": {
    "colab": {
     "base_uri": "https://localhost:8080/",
     "height": 175
    },
    "id": "LulcnupFSFtD",
    "outputId": "9ad3211d-06f2-46f3-f4e9-a559f310516e"
   },
   "outputs": [
    {
     "data": {
      "text/html": [
       "\n",
       "  <div id=\"df-52ca619e-d3e9-4c17-8adb-3549f4d160d3\">\n",
       "    <div class=\"colab-df-container\">\n",
       "      <div>\n",
       "<style scoped>\n",
       "    .dataframe tbody tr th:only-of-type {\n",
       "        vertical-align: middle;\n",
       "    }\n",
       "\n",
       "    .dataframe tbody tr th {\n",
       "        vertical-align: top;\n",
       "    }\n",
       "\n",
       "    .dataframe thead th {\n",
       "        text-align: right;\n",
       "    }\n",
       "</style>\n",
       "<table border=\"1\" class=\"dataframe\">\n",
       "  <thead>\n",
       "    <tr style=\"text-align: right;\">\n",
       "      <th></th>\n",
       "      <th>Cluster</th>\n",
       "      <th>Deaths</th>\n",
       "    </tr>\n",
       "  </thead>\n",
       "  <tbody>\n",
       "    <tr>\n",
       "      <th>0</th>\n",
       "      <td>0</td>\n",
       "      <td>14.924910</td>\n",
       "    </tr>\n",
       "    <tr>\n",
       "      <th>1</th>\n",
       "      <td>1</td>\n",
       "      <td>12.537486</td>\n",
       "    </tr>\n",
       "    <tr>\n",
       "      <th>2</th>\n",
       "      <td>2</td>\n",
       "      <td>15.011487</td>\n",
       "    </tr>\n",
       "    <tr>\n",
       "      <th>3</th>\n",
       "      <td>3</td>\n",
       "      <td>14.327130</td>\n",
       "    </tr>\n",
       "  </tbody>\n",
       "</table>\n",
       "</div>\n",
       "      <button class=\"colab-df-convert\" onclick=\"convertToInteractive('df-52ca619e-d3e9-4c17-8adb-3549f4d160d3')\"\n",
       "              title=\"Convert this dataframe to an interactive table.\"\n",
       "              style=\"display:none;\">\n",
       "        \n",
       "  <svg xmlns=\"http://www.w3.org/2000/svg\" height=\"24px\"viewBox=\"0 0 24 24\"\n",
       "       width=\"24px\">\n",
       "    <path d=\"M0 0h24v24H0V0z\" fill=\"none\"/>\n",
       "    <path d=\"M18.56 5.44l.94 2.06.94-2.06 2.06-.94-2.06-.94-.94-2.06-.94 2.06-2.06.94zm-11 1L8.5 8.5l.94-2.06 2.06-.94-2.06-.94L8.5 2.5l-.94 2.06-2.06.94zm10 10l.94 2.06.94-2.06 2.06-.94-2.06-.94-.94-2.06-.94 2.06-2.06.94z\"/><path d=\"M17.41 7.96l-1.37-1.37c-.4-.4-.92-.59-1.43-.59-.52 0-1.04.2-1.43.59L10.3 9.45l-7.72 7.72c-.78.78-.78 2.05 0 2.83L4 21.41c.39.39.9.59 1.41.59.51 0 1.02-.2 1.41-.59l7.78-7.78 2.81-2.81c.8-.78.8-2.07 0-2.86zM5.41 20L4 18.59l7.72-7.72 1.47 1.35L5.41 20z\"/>\n",
       "  </svg>\n",
       "      </button>\n",
       "      \n",
       "  <style>\n",
       "    .colab-df-container {\n",
       "      display:flex;\n",
       "      flex-wrap:wrap;\n",
       "      gap: 12px;\n",
       "    }\n",
       "\n",
       "    .colab-df-convert {\n",
       "      background-color: #E8F0FE;\n",
       "      border: none;\n",
       "      border-radius: 50%;\n",
       "      cursor: pointer;\n",
       "      display: none;\n",
       "      fill: #1967D2;\n",
       "      height: 32px;\n",
       "      padding: 0 0 0 0;\n",
       "      width: 32px;\n",
       "    }\n",
       "\n",
       "    .colab-df-convert:hover {\n",
       "      background-color: #E2EBFA;\n",
       "      box-shadow: 0px 1px 2px rgba(60, 64, 67, 0.3), 0px 1px 3px 1px rgba(60, 64, 67, 0.15);\n",
       "      fill: #174EA6;\n",
       "    }\n",
       "\n",
       "    [theme=dark] .colab-df-convert {\n",
       "      background-color: #3B4455;\n",
       "      fill: #D2E3FC;\n",
       "    }\n",
       "\n",
       "    [theme=dark] .colab-df-convert:hover {\n",
       "      background-color: #434B5C;\n",
       "      box-shadow: 0px 1px 3px 1px rgba(0, 0, 0, 0.15);\n",
       "      filter: drop-shadow(0px 1px 2px rgba(0, 0, 0, 0.3));\n",
       "      fill: #FFFFFF;\n",
       "    }\n",
       "  </style>\n",
       "\n",
       "      <script>\n",
       "        const buttonEl =\n",
       "          document.querySelector('#df-52ca619e-d3e9-4c17-8adb-3549f4d160d3 button.colab-df-convert');\n",
       "        buttonEl.style.display =\n",
       "          google.colab.kernel.accessAllowed ? 'block' : 'none';\n",
       "\n",
       "        async function convertToInteractive(key) {\n",
       "          const element = document.querySelector('#df-52ca619e-d3e9-4c17-8adb-3549f4d160d3');\n",
       "          const dataTable =\n",
       "            await google.colab.kernel.invokeFunction('convertToInteractive',\n",
       "                                                     [key], {});\n",
       "          if (!dataTable) return;\n",
       "\n",
       "          const docLinkHtml = 'Like what you see? Visit the ' +\n",
       "            '<a target=\"_blank\" href=https://colab.research.google.com/notebooks/data_table.ipynb>data table notebook</a>'\n",
       "            + ' to learn more about interactive tables.';\n",
       "          element.innerHTML = '';\n",
       "          dataTable['output_type'] = 'display_data';\n",
       "          await google.colab.output.renderOutput(dataTable, element);\n",
       "          const docLink = document.createElement('div');\n",
       "          docLink.innerHTML = docLinkHtml;\n",
       "          element.appendChild(docLink);\n",
       "        }\n",
       "      </script>\n",
       "    </div>\n",
       "  </div>\n",
       "  "
      ],
      "text/plain": [
       "   Cluster     Deaths\n",
       "0        0  14.924910\n",
       "1        1  12.537486\n",
       "2        2  15.011487\n",
       "3        3  14.327130"
      ]
     },
     "execution_count": 75,
     "metadata": {},
     "output_type": "execute_result"
    }
   ],
   "source": [
    "df.groupby('Cluster')['Deaths'].mean().reset_index()"
   ]
  },
  {
   "cell_type": "code",
   "execution_count": null,
   "id": "q7rHA55wSL0r",
   "metadata": {
    "colab": {
     "base_uri": "https://localhost:8080/",
     "height": 175
    },
    "id": "q7rHA55wSL0r",
    "outputId": "3482ecbf-b2b8-4391-9f96-d5dbd1b3df3f"
   },
   "outputs": [
    {
     "data": {
      "text/html": [
       "\n",
       "  <div id=\"df-c24d936b-2c0d-408b-b27f-a6c7608207a6\">\n",
       "    <div class=\"colab-df-container\">\n",
       "      <div>\n",
       "<style scoped>\n",
       "    .dataframe tbody tr th:only-of-type {\n",
       "        vertical-align: middle;\n",
       "    }\n",
       "\n",
       "    .dataframe tbody tr th {\n",
       "        vertical-align: top;\n",
       "    }\n",
       "\n",
       "    .dataframe thead th {\n",
       "        text-align: right;\n",
       "    }\n",
       "</style>\n",
       "<table border=\"1\" class=\"dataframe\">\n",
       "  <thead>\n",
       "    <tr style=\"text-align: right;\">\n",
       "      <th></th>\n",
       "      <th>Cluster</th>\n",
       "      <th>HS_Percent</th>\n",
       "    </tr>\n",
       "  </thead>\n",
       "  <tbody>\n",
       "    <tr>\n",
       "      <th>0</th>\n",
       "      <td>0</td>\n",
       "      <td>0.233354</td>\n",
       "    </tr>\n",
       "    <tr>\n",
       "      <th>1</th>\n",
       "      <td>1</td>\n",
       "      <td>0.254430</td>\n",
       "    </tr>\n",
       "    <tr>\n",
       "      <th>2</th>\n",
       "      <td>2</td>\n",
       "      <td>0.215874</td>\n",
       "    </tr>\n",
       "    <tr>\n",
       "      <th>3</th>\n",
       "      <td>3</td>\n",
       "      <td>0.244220</td>\n",
       "    </tr>\n",
       "  </tbody>\n",
       "</table>\n",
       "</div>\n",
       "      <button class=\"colab-df-convert\" onclick=\"convertToInteractive('df-c24d936b-2c0d-408b-b27f-a6c7608207a6')\"\n",
       "              title=\"Convert this dataframe to an interactive table.\"\n",
       "              style=\"display:none;\">\n",
       "        \n",
       "  <svg xmlns=\"http://www.w3.org/2000/svg\" height=\"24px\"viewBox=\"0 0 24 24\"\n",
       "       width=\"24px\">\n",
       "    <path d=\"M0 0h24v24H0V0z\" fill=\"none\"/>\n",
       "    <path d=\"M18.56 5.44l.94 2.06.94-2.06 2.06-.94-2.06-.94-.94-2.06-.94 2.06-2.06.94zm-11 1L8.5 8.5l.94-2.06 2.06-.94-2.06-.94L8.5 2.5l-.94 2.06-2.06.94zm10 10l.94 2.06.94-2.06 2.06-.94-2.06-.94-.94-2.06-.94 2.06-2.06.94z\"/><path d=\"M17.41 7.96l-1.37-1.37c-.4-.4-.92-.59-1.43-.59-.52 0-1.04.2-1.43.59L10.3 9.45l-7.72 7.72c-.78.78-.78 2.05 0 2.83L4 21.41c.39.39.9.59 1.41.59.51 0 1.02-.2 1.41-.59l7.78-7.78 2.81-2.81c.8-.78.8-2.07 0-2.86zM5.41 20L4 18.59l7.72-7.72 1.47 1.35L5.41 20z\"/>\n",
       "  </svg>\n",
       "      </button>\n",
       "      \n",
       "  <style>\n",
       "    .colab-df-container {\n",
       "      display:flex;\n",
       "      flex-wrap:wrap;\n",
       "      gap: 12px;\n",
       "    }\n",
       "\n",
       "    .colab-df-convert {\n",
       "      background-color: #E8F0FE;\n",
       "      border: none;\n",
       "      border-radius: 50%;\n",
       "      cursor: pointer;\n",
       "      display: none;\n",
       "      fill: #1967D2;\n",
       "      height: 32px;\n",
       "      padding: 0 0 0 0;\n",
       "      width: 32px;\n",
       "    }\n",
       "\n",
       "    .colab-df-convert:hover {\n",
       "      background-color: #E2EBFA;\n",
       "      box-shadow: 0px 1px 2px rgba(60, 64, 67, 0.3), 0px 1px 3px 1px rgba(60, 64, 67, 0.15);\n",
       "      fill: #174EA6;\n",
       "    }\n",
       "\n",
       "    [theme=dark] .colab-df-convert {\n",
       "      background-color: #3B4455;\n",
       "      fill: #D2E3FC;\n",
       "    }\n",
       "\n",
       "    [theme=dark] .colab-df-convert:hover {\n",
       "      background-color: #434B5C;\n",
       "      box-shadow: 0px 1px 3px 1px rgba(0, 0, 0, 0.15);\n",
       "      filter: drop-shadow(0px 1px 2px rgba(0, 0, 0, 0.3));\n",
       "      fill: #FFFFFF;\n",
       "    }\n",
       "  </style>\n",
       "\n",
       "      <script>\n",
       "        const buttonEl =\n",
       "          document.querySelector('#df-c24d936b-2c0d-408b-b27f-a6c7608207a6 button.colab-df-convert');\n",
       "        buttonEl.style.display =\n",
       "          google.colab.kernel.accessAllowed ? 'block' : 'none';\n",
       "\n",
       "        async function convertToInteractive(key) {\n",
       "          const element = document.querySelector('#df-c24d936b-2c0d-408b-b27f-a6c7608207a6');\n",
       "          const dataTable =\n",
       "            await google.colab.kernel.invokeFunction('convertToInteractive',\n",
       "                                                     [key], {});\n",
       "          if (!dataTable) return;\n",
       "\n",
       "          const docLinkHtml = 'Like what you see? Visit the ' +\n",
       "            '<a target=\"_blank\" href=https://colab.research.google.com/notebooks/data_table.ipynb>data table notebook</a>'\n",
       "            + ' to learn more about interactive tables.';\n",
       "          element.innerHTML = '';\n",
       "          dataTable['output_type'] = 'display_data';\n",
       "          await google.colab.output.renderOutput(dataTable, element);\n",
       "          const docLink = document.createElement('div');\n",
       "          docLink.innerHTML = docLinkHtml;\n",
       "          element.appendChild(docLink);\n",
       "        }\n",
       "      </script>\n",
       "    </div>\n",
       "  </div>\n",
       "  "
      ],
      "text/plain": [
       "   Cluster  HS_Percent\n",
       "0        0    0.233354\n",
       "1        1    0.254430\n",
       "2        2    0.215874\n",
       "3        3    0.244220"
      ]
     },
     "execution_count": 76,
     "metadata": {},
     "output_type": "execute_result"
    }
   ],
   "source": [
    "df.groupby('Cluster')['HS_Percent'].mean().reset_index()"
   ]
  },
  {
   "cell_type": "markdown",
   "id": "56pDoSoUVfnR",
   "metadata": {
    "id": "56pDoSoUVfnR"
   },
   "source": [
    "Notamos que se agruparon los clusters principalmente por su ACS y kills, mientras que Deaths y HS_Percent (disparos a la cabeza) no tuvieron mucho efecto en como quedaron los clusters."
   ]
  },
  {
   "cell_type": "markdown",
   "id": "2HsSb4QkV6Sc",
   "metadata": {
    "id": "2HsSb4QkV6Sc"
   },
   "source": [
    "Ahora veremos si los agentes tuvieron algo que ver en la asignación de clusters. Para ellos contamos la cantidad de repeticiones de ellos en la agrupación."
   ]
  },
  {
   "cell_type": "code",
   "execution_count": null,
   "id": "dKGet56ASbnT",
   "metadata": {
    "colab": {
     "base_uri": "https://localhost:8080/",
     "height": 206
    },
    "id": "dKGet56ASbnT",
    "outputId": "5a87d139-f376-46e6-87fc-cc6eaf5c3f4e"
   },
   "outputs": [
    {
     "data": {
      "text/html": [
       "\n",
       "  <div id=\"df-d48d2c6c-fc75-4465-aba5-85e688e28fa6\">\n",
       "    <div class=\"colab-df-container\">\n",
       "      <div>\n",
       "<style scoped>\n",
       "    .dataframe tbody tr th:only-of-type {\n",
       "        vertical-align: middle;\n",
       "    }\n",
       "\n",
       "    .dataframe tbody tr th {\n",
       "        vertical-align: top;\n",
       "    }\n",
       "\n",
       "    .dataframe thead th {\n",
       "        text-align: right;\n",
       "    }\n",
       "</style>\n",
       "<table border=\"1\" class=\"dataframe\">\n",
       "  <thead>\n",
       "    <tr style=\"text-align: right;\">\n",
       "      <th></th>\n",
       "      <th>Cluster</th>\n",
       "      <th>Agent</th>\n",
       "      <th>Count</th>\n",
       "    </tr>\n",
       "  </thead>\n",
       "  <tbody>\n",
       "    <tr>\n",
       "      <th>14</th>\n",
       "      <td>0</td>\n",
       "      <td>sova</td>\n",
       "      <td>9021</td>\n",
       "    </tr>\n",
       "    <tr>\n",
       "      <th>5</th>\n",
       "      <td>0</td>\n",
       "      <td>jett</td>\n",
       "      <td>6682</td>\n",
       "    </tr>\n",
       "    <tr>\n",
       "      <th>8</th>\n",
       "      <td>0</td>\n",
       "      <td>omen</td>\n",
       "      <td>6067</td>\n",
       "    </tr>\n",
       "    <tr>\n",
       "      <th>4</th>\n",
       "      <td>0</td>\n",
       "      <td>cypher</td>\n",
       "      <td>5036</td>\n",
       "    </tr>\n",
       "    <tr>\n",
       "      <th>7</th>\n",
       "      <td>0</td>\n",
       "      <td>killjoy</td>\n",
       "      <td>4648</td>\n",
       "    </tr>\n",
       "  </tbody>\n",
       "</table>\n",
       "</div>\n",
       "      <button class=\"colab-df-convert\" onclick=\"convertToInteractive('df-d48d2c6c-fc75-4465-aba5-85e688e28fa6')\"\n",
       "              title=\"Convert this dataframe to an interactive table.\"\n",
       "              style=\"display:none;\">\n",
       "        \n",
       "  <svg xmlns=\"http://www.w3.org/2000/svg\" height=\"24px\"viewBox=\"0 0 24 24\"\n",
       "       width=\"24px\">\n",
       "    <path d=\"M0 0h24v24H0V0z\" fill=\"none\"/>\n",
       "    <path d=\"M18.56 5.44l.94 2.06.94-2.06 2.06-.94-2.06-.94-.94-2.06-.94 2.06-2.06.94zm-11 1L8.5 8.5l.94-2.06 2.06-.94-2.06-.94L8.5 2.5l-.94 2.06-2.06.94zm10 10l.94 2.06.94-2.06 2.06-.94-2.06-.94-.94-2.06-.94 2.06-2.06.94z\"/><path d=\"M17.41 7.96l-1.37-1.37c-.4-.4-.92-.59-1.43-.59-.52 0-1.04.2-1.43.59L10.3 9.45l-7.72 7.72c-.78.78-.78 2.05 0 2.83L4 21.41c.39.39.9.59 1.41.59.51 0 1.02-.2 1.41-.59l7.78-7.78 2.81-2.81c.8-.78.8-2.07 0-2.86zM5.41 20L4 18.59l7.72-7.72 1.47 1.35L5.41 20z\"/>\n",
       "  </svg>\n",
       "      </button>\n",
       "      \n",
       "  <style>\n",
       "    .colab-df-container {\n",
       "      display:flex;\n",
       "      flex-wrap:wrap;\n",
       "      gap: 12px;\n",
       "    }\n",
       "\n",
       "    .colab-df-convert {\n",
       "      background-color: #E8F0FE;\n",
       "      border: none;\n",
       "      border-radius: 50%;\n",
       "      cursor: pointer;\n",
       "      display: none;\n",
       "      fill: #1967D2;\n",
       "      height: 32px;\n",
       "      padding: 0 0 0 0;\n",
       "      width: 32px;\n",
       "    }\n",
       "\n",
       "    .colab-df-convert:hover {\n",
       "      background-color: #E2EBFA;\n",
       "      box-shadow: 0px 1px 2px rgba(60, 64, 67, 0.3), 0px 1px 3px 1px rgba(60, 64, 67, 0.15);\n",
       "      fill: #174EA6;\n",
       "    }\n",
       "\n",
       "    [theme=dark] .colab-df-convert {\n",
       "      background-color: #3B4455;\n",
       "      fill: #D2E3FC;\n",
       "    }\n",
       "\n",
       "    [theme=dark] .colab-df-convert:hover {\n",
       "      background-color: #434B5C;\n",
       "      box-shadow: 0px 1px 3px 1px rgba(0, 0, 0, 0.15);\n",
       "      filter: drop-shadow(0px 1px 2px rgba(0, 0, 0, 0.3));\n",
       "      fill: #FFFFFF;\n",
       "    }\n",
       "  </style>\n",
       "\n",
       "      <script>\n",
       "        const buttonEl =\n",
       "          document.querySelector('#df-d48d2c6c-fc75-4465-aba5-85e688e28fa6 button.colab-df-convert');\n",
       "        buttonEl.style.display =\n",
       "          google.colab.kernel.accessAllowed ? 'block' : 'none';\n",
       "\n",
       "        async function convertToInteractive(key) {\n",
       "          const element = document.querySelector('#df-d48d2c6c-fc75-4465-aba5-85e688e28fa6');\n",
       "          const dataTable =\n",
       "            await google.colab.kernel.invokeFunction('convertToInteractive',\n",
       "                                                     [key], {});\n",
       "          if (!dataTable) return;\n",
       "\n",
       "          const docLinkHtml = 'Like what you see? Visit the ' +\n",
       "            '<a target=\"_blank\" href=https://colab.research.google.com/notebooks/data_table.ipynb>data table notebook</a>'\n",
       "            + ' to learn more about interactive tables.';\n",
       "          element.innerHTML = '';\n",
       "          dataTable['output_type'] = 'display_data';\n",
       "          await google.colab.output.renderOutput(dataTable, element);\n",
       "          const docLink = document.createElement('div');\n",
       "          docLink.innerHTML = docLinkHtml;\n",
       "          element.appendChild(docLink);\n",
       "        }\n",
       "      </script>\n",
       "    </div>\n",
       "  </div>\n",
       "  "
      ],
      "text/plain": [
       "    Cluster    Agent  Count\n",
       "14        0     sova   9021\n",
       "5         0     jett   6682\n",
       "8         0     omen   6067\n",
       "4         0   cypher   5036\n",
       "7         0  killjoy   4648"
      ]
     },
     "execution_count": 94,
     "metadata": {},
     "output_type": "execute_result"
    }
   ],
   "source": [
    "agent_count = df.groupby([\"Cluster\", \"Agent\"]).size().reset_index(name = \"Count\")\n",
    "cluster_0 = agent_count.loc[(agent_count[\"Cluster\"]) == 0]\n",
    "cluster_0.sort_values(by=\"Count\", ascending=False).head(5)"
   ]
  },
  {
   "cell_type": "code",
   "execution_count": null,
   "id": "Eu30AEBIUfq2",
   "metadata": {
    "colab": {
     "base_uri": "https://localhost:8080/",
     "height": 206
    },
    "id": "Eu30AEBIUfq2",
    "outputId": "18e89b7d-c9a6-423e-a34b-fb16a930b7f0"
   },
   "outputs": [
    {
     "data": {
      "text/html": [
       "\n",
       "  <div id=\"df-b870e524-eeb3-4e46-abf0-c688028e0f8b\">\n",
       "    <div class=\"colab-df-container\">\n",
       "      <div>\n",
       "<style scoped>\n",
       "    .dataframe tbody tr th:only-of-type {\n",
       "        vertical-align: middle;\n",
       "    }\n",
       "\n",
       "    .dataframe tbody tr th {\n",
       "        vertical-align: top;\n",
       "    }\n",
       "\n",
       "    .dataframe thead th {\n",
       "        text-align: right;\n",
       "    }\n",
       "</style>\n",
       "<table border=\"1\" class=\"dataframe\">\n",
       "  <thead>\n",
       "    <tr style=\"text-align: right;\">\n",
       "      <th></th>\n",
       "      <th>Cluster</th>\n",
       "      <th>Agent</th>\n",
       "      <th>Count</th>\n",
       "    </tr>\n",
       "  </thead>\n",
       "  <tbody>\n",
       "    <tr>\n",
       "      <th>22</th>\n",
       "      <td>1</td>\n",
       "      <td>jett</td>\n",
       "      <td>4495</td>\n",
       "    </tr>\n",
       "    <tr>\n",
       "      <th>27</th>\n",
       "      <td>1</td>\n",
       "      <td>raze</td>\n",
       "      <td>2921</td>\n",
       "    </tr>\n",
       "    <tr>\n",
       "      <th>31</th>\n",
       "      <td>1</td>\n",
       "      <td>sova</td>\n",
       "      <td>1840</td>\n",
       "    </tr>\n",
       "    <tr>\n",
       "      <th>28</th>\n",
       "      <td>1</td>\n",
       "      <td>reyna</td>\n",
       "      <td>1354</td>\n",
       "    </tr>\n",
       "    <tr>\n",
       "      <th>24</th>\n",
       "      <td>1</td>\n",
       "      <td>killjoy</td>\n",
       "      <td>947</td>\n",
       "    </tr>\n",
       "  </tbody>\n",
       "</table>\n",
       "</div>\n",
       "      <button class=\"colab-df-convert\" onclick=\"convertToInteractive('df-b870e524-eeb3-4e46-abf0-c688028e0f8b')\"\n",
       "              title=\"Convert this dataframe to an interactive table.\"\n",
       "              style=\"display:none;\">\n",
       "        \n",
       "  <svg xmlns=\"http://www.w3.org/2000/svg\" height=\"24px\"viewBox=\"0 0 24 24\"\n",
       "       width=\"24px\">\n",
       "    <path d=\"M0 0h24v24H0V0z\" fill=\"none\"/>\n",
       "    <path d=\"M18.56 5.44l.94 2.06.94-2.06 2.06-.94-2.06-.94-.94-2.06-.94 2.06-2.06.94zm-11 1L8.5 8.5l.94-2.06 2.06-.94-2.06-.94L8.5 2.5l-.94 2.06-2.06.94zm10 10l.94 2.06.94-2.06 2.06-.94-2.06-.94-.94-2.06-.94 2.06-2.06.94z\"/><path d=\"M17.41 7.96l-1.37-1.37c-.4-.4-.92-.59-1.43-.59-.52 0-1.04.2-1.43.59L10.3 9.45l-7.72 7.72c-.78.78-.78 2.05 0 2.83L4 21.41c.39.39.9.59 1.41.59.51 0 1.02-.2 1.41-.59l7.78-7.78 2.81-2.81c.8-.78.8-2.07 0-2.86zM5.41 20L4 18.59l7.72-7.72 1.47 1.35L5.41 20z\"/>\n",
       "  </svg>\n",
       "      </button>\n",
       "      \n",
       "  <style>\n",
       "    .colab-df-container {\n",
       "      display:flex;\n",
       "      flex-wrap:wrap;\n",
       "      gap: 12px;\n",
       "    }\n",
       "\n",
       "    .colab-df-convert {\n",
       "      background-color: #E8F0FE;\n",
       "      border: none;\n",
       "      border-radius: 50%;\n",
       "      cursor: pointer;\n",
       "      display: none;\n",
       "      fill: #1967D2;\n",
       "      height: 32px;\n",
       "      padding: 0 0 0 0;\n",
       "      width: 32px;\n",
       "    }\n",
       "\n",
       "    .colab-df-convert:hover {\n",
       "      background-color: #E2EBFA;\n",
       "      box-shadow: 0px 1px 2px rgba(60, 64, 67, 0.3), 0px 1px 3px 1px rgba(60, 64, 67, 0.15);\n",
       "      fill: #174EA6;\n",
       "    }\n",
       "\n",
       "    [theme=dark] .colab-df-convert {\n",
       "      background-color: #3B4455;\n",
       "      fill: #D2E3FC;\n",
       "    }\n",
       "\n",
       "    [theme=dark] .colab-df-convert:hover {\n",
       "      background-color: #434B5C;\n",
       "      box-shadow: 0px 1px 3px 1px rgba(0, 0, 0, 0.15);\n",
       "      filter: drop-shadow(0px 1px 2px rgba(0, 0, 0, 0.3));\n",
       "      fill: #FFFFFF;\n",
       "    }\n",
       "  </style>\n",
       "\n",
       "      <script>\n",
       "        const buttonEl =\n",
       "          document.querySelector('#df-b870e524-eeb3-4e46-abf0-c688028e0f8b button.colab-df-convert');\n",
       "        buttonEl.style.display =\n",
       "          google.colab.kernel.accessAllowed ? 'block' : 'none';\n",
       "\n",
       "        async function convertToInteractive(key) {\n",
       "          const element = document.querySelector('#df-b870e524-eeb3-4e46-abf0-c688028e0f8b');\n",
       "          const dataTable =\n",
       "            await google.colab.kernel.invokeFunction('convertToInteractive',\n",
       "                                                     [key], {});\n",
       "          if (!dataTable) return;\n",
       "\n",
       "          const docLinkHtml = 'Like what you see? Visit the ' +\n",
       "            '<a target=\"_blank\" href=https://colab.research.google.com/notebooks/data_table.ipynb>data table notebook</a>'\n",
       "            + ' to learn more about interactive tables.';\n",
       "          element.innerHTML = '';\n",
       "          dataTable['output_type'] = 'display_data';\n",
       "          await google.colab.output.renderOutput(dataTable, element);\n",
       "          const docLink = document.createElement('div');\n",
       "          docLink.innerHTML = docLinkHtml;\n",
       "          element.appendChild(docLink);\n",
       "        }\n",
       "      </script>\n",
       "    </div>\n",
       "  </div>\n",
       "  "
      ],
      "text/plain": [
       "    Cluster    Agent  Count\n",
       "22        1     jett   4495\n",
       "27        1     raze   2921\n",
       "31        1     sova   1840\n",
       "28        1    reyna   1354\n",
       "24        1  killjoy    947"
      ]
     },
     "execution_count": 95,
     "metadata": {},
     "output_type": "execute_result"
    }
   ],
   "source": [
    "cluster_1 = agent_count.loc[(agent_count[\"Cluster\"]) == 1]\n",
    "cluster_1.sort_values(by=\"Count\", ascending=False).head(5)"
   ]
  },
  {
   "cell_type": "code",
   "execution_count": null,
   "id": "sEUGs4BOUh5y",
   "metadata": {
    "colab": {
     "base_uri": "https://localhost:8080/",
     "height": 206
    },
    "id": "sEUGs4BOUh5y",
    "outputId": "2d4b3d62-b51d-426a-cb9f-bd84741c2bce"
   },
   "outputs": [
    {
     "data": {
      "text/html": [
       "\n",
       "  <div id=\"df-232e8f5b-5bb4-4da3-9a56-cf10b972b9a4\">\n",
       "    <div class=\"colab-df-container\">\n",
       "      <div>\n",
       "<style scoped>\n",
       "    .dataframe tbody tr th:only-of-type {\n",
       "        vertical-align: middle;\n",
       "    }\n",
       "\n",
       "    .dataframe tbody tr th {\n",
       "        vertical-align: top;\n",
       "    }\n",
       "\n",
       "    .dataframe thead th {\n",
       "        text-align: right;\n",
       "    }\n",
       "</style>\n",
       "<table border=\"1\" class=\"dataframe\">\n",
       "  <thead>\n",
       "    <tr style=\"text-align: right;\">\n",
       "      <th></th>\n",
       "      <th>Cluster</th>\n",
       "      <th>Agent</th>\n",
       "      <th>Count</th>\n",
       "    </tr>\n",
       "  </thead>\n",
       "  <tbody>\n",
       "    <tr>\n",
       "      <th>48</th>\n",
       "      <td>2</td>\n",
       "      <td>sova</td>\n",
       "      <td>4967</td>\n",
       "    </tr>\n",
       "    <tr>\n",
       "      <th>42</th>\n",
       "      <td>2</td>\n",
       "      <td>omen</td>\n",
       "      <td>4194</td>\n",
       "    </tr>\n",
       "    <tr>\n",
       "      <th>38</th>\n",
       "      <td>2</td>\n",
       "      <td>cypher</td>\n",
       "      <td>3562</td>\n",
       "    </tr>\n",
       "    <tr>\n",
       "      <th>46</th>\n",
       "      <td>2</td>\n",
       "      <td>sage</td>\n",
       "      <td>2798</td>\n",
       "    </tr>\n",
       "    <tr>\n",
       "      <th>39</th>\n",
       "      <td>2</td>\n",
       "      <td>jett</td>\n",
       "      <td>2790</td>\n",
       "    </tr>\n",
       "  </tbody>\n",
       "</table>\n",
       "</div>\n",
       "      <button class=\"colab-df-convert\" onclick=\"convertToInteractive('df-232e8f5b-5bb4-4da3-9a56-cf10b972b9a4')\"\n",
       "              title=\"Convert this dataframe to an interactive table.\"\n",
       "              style=\"display:none;\">\n",
       "        \n",
       "  <svg xmlns=\"http://www.w3.org/2000/svg\" height=\"24px\"viewBox=\"0 0 24 24\"\n",
       "       width=\"24px\">\n",
       "    <path d=\"M0 0h24v24H0V0z\" fill=\"none\"/>\n",
       "    <path d=\"M18.56 5.44l.94 2.06.94-2.06 2.06-.94-2.06-.94-.94-2.06-.94 2.06-2.06.94zm-11 1L8.5 8.5l.94-2.06 2.06-.94-2.06-.94L8.5 2.5l-.94 2.06-2.06.94zm10 10l.94 2.06.94-2.06 2.06-.94-2.06-.94-.94-2.06-.94 2.06-2.06.94z\"/><path d=\"M17.41 7.96l-1.37-1.37c-.4-.4-.92-.59-1.43-.59-.52 0-1.04.2-1.43.59L10.3 9.45l-7.72 7.72c-.78.78-.78 2.05 0 2.83L4 21.41c.39.39.9.59 1.41.59.51 0 1.02-.2 1.41-.59l7.78-7.78 2.81-2.81c.8-.78.8-2.07 0-2.86zM5.41 20L4 18.59l7.72-7.72 1.47 1.35L5.41 20z\"/>\n",
       "  </svg>\n",
       "      </button>\n",
       "      \n",
       "  <style>\n",
       "    .colab-df-container {\n",
       "      display:flex;\n",
       "      flex-wrap:wrap;\n",
       "      gap: 12px;\n",
       "    }\n",
       "\n",
       "    .colab-df-convert {\n",
       "      background-color: #E8F0FE;\n",
       "      border: none;\n",
       "      border-radius: 50%;\n",
       "      cursor: pointer;\n",
       "      display: none;\n",
       "      fill: #1967D2;\n",
       "      height: 32px;\n",
       "      padding: 0 0 0 0;\n",
       "      width: 32px;\n",
       "    }\n",
       "\n",
       "    .colab-df-convert:hover {\n",
       "      background-color: #E2EBFA;\n",
       "      box-shadow: 0px 1px 2px rgba(60, 64, 67, 0.3), 0px 1px 3px 1px rgba(60, 64, 67, 0.15);\n",
       "      fill: #174EA6;\n",
       "    }\n",
       "\n",
       "    [theme=dark] .colab-df-convert {\n",
       "      background-color: #3B4455;\n",
       "      fill: #D2E3FC;\n",
       "    }\n",
       "\n",
       "    [theme=dark] .colab-df-convert:hover {\n",
       "      background-color: #434B5C;\n",
       "      box-shadow: 0px 1px 3px 1px rgba(0, 0, 0, 0.15);\n",
       "      filter: drop-shadow(0px 1px 2px rgba(0, 0, 0, 0.3));\n",
       "      fill: #FFFFFF;\n",
       "    }\n",
       "  </style>\n",
       "\n",
       "      <script>\n",
       "        const buttonEl =\n",
       "          document.querySelector('#df-232e8f5b-5bb4-4da3-9a56-cf10b972b9a4 button.colab-df-convert');\n",
       "        buttonEl.style.display =\n",
       "          google.colab.kernel.accessAllowed ? 'block' : 'none';\n",
       "\n",
       "        async function convertToInteractive(key) {\n",
       "          const element = document.querySelector('#df-232e8f5b-5bb4-4da3-9a56-cf10b972b9a4');\n",
       "          const dataTable =\n",
       "            await google.colab.kernel.invokeFunction('convertToInteractive',\n",
       "                                                     [key], {});\n",
       "          if (!dataTable) return;\n",
       "\n",
       "          const docLinkHtml = 'Like what you see? Visit the ' +\n",
       "            '<a target=\"_blank\" href=https://colab.research.google.com/notebooks/data_table.ipynb>data table notebook</a>'\n",
       "            + ' to learn more about interactive tables.';\n",
       "          element.innerHTML = '';\n",
       "          dataTable['output_type'] = 'display_data';\n",
       "          await google.colab.output.renderOutput(dataTable, element);\n",
       "          const docLink = document.createElement('div');\n",
       "          docLink.innerHTML = docLinkHtml;\n",
       "          element.appendChild(docLink);\n",
       "        }\n",
       "      </script>\n",
       "    </div>\n",
       "  </div>\n",
       "  "
      ],
      "text/plain": [
       "    Cluster   Agent  Count\n",
       "48        2    sova   4967\n",
       "42        2    omen   4194\n",
       "38        2  cypher   3562\n",
       "46        2    sage   2798\n",
       "39        2    jett   2790"
      ]
     },
     "execution_count": 96,
     "metadata": {},
     "output_type": "execute_result"
    }
   ],
   "source": [
    "cluster_2 = agent_count.loc[(agent_count[\"Cluster\"]) == 2]\n",
    "cluster_2.sort_values(by=\"Count\", ascending=False).head(5)"
   ]
  },
  {
   "cell_type": "code",
   "execution_count": null,
   "id": "-EGLh2cuSyJS",
   "metadata": {
    "colab": {
     "base_uri": "https://localhost:8080/",
     "height": 206
    },
    "id": "-EGLh2cuSyJS",
    "outputId": "d579dad5-37e8-48eb-a3c9-459bcbc6cef2"
   },
   "outputs": [
    {
     "data": {
      "text/html": [
       "\n",
       "  <div id=\"df-9aca1a82-ab37-4c99-a251-e920b8e5ce5e\">\n",
       "    <div class=\"colab-df-container\">\n",
       "      <div>\n",
       "<style scoped>\n",
       "    .dataframe tbody tr th:only-of-type {\n",
       "        vertical-align: middle;\n",
       "    }\n",
       "\n",
       "    .dataframe tbody tr th {\n",
       "        vertical-align: top;\n",
       "    }\n",
       "\n",
       "    .dataframe thead th {\n",
       "        text-align: right;\n",
       "    }\n",
       "</style>\n",
       "<table border=\"1\" class=\"dataframe\">\n",
       "  <thead>\n",
       "    <tr style=\"text-align: right;\">\n",
       "      <th></th>\n",
       "      <th>Cluster</th>\n",
       "      <th>Agent</th>\n",
       "      <th>Count</th>\n",
       "    </tr>\n",
       "  </thead>\n",
       "  <tbody>\n",
       "    <tr>\n",
       "      <th>56</th>\n",
       "      <td>3</td>\n",
       "      <td>jett</td>\n",
       "      <td>7991</td>\n",
       "    </tr>\n",
       "    <tr>\n",
       "      <th>65</th>\n",
       "      <td>3</td>\n",
       "      <td>sova</td>\n",
       "      <td>6814</td>\n",
       "    </tr>\n",
       "    <tr>\n",
       "      <th>61</th>\n",
       "      <td>3</td>\n",
       "      <td>raze</td>\n",
       "      <td>4781</td>\n",
       "    </tr>\n",
       "    <tr>\n",
       "      <th>59</th>\n",
       "      <td>3</td>\n",
       "      <td>omen</td>\n",
       "      <td>3716</td>\n",
       "    </tr>\n",
       "    <tr>\n",
       "      <th>58</th>\n",
       "      <td>3</td>\n",
       "      <td>killjoy</td>\n",
       "      <td>3578</td>\n",
       "    </tr>\n",
       "  </tbody>\n",
       "</table>\n",
       "</div>\n",
       "      <button class=\"colab-df-convert\" onclick=\"convertToInteractive('df-9aca1a82-ab37-4c99-a251-e920b8e5ce5e')\"\n",
       "              title=\"Convert this dataframe to an interactive table.\"\n",
       "              style=\"display:none;\">\n",
       "        \n",
       "  <svg xmlns=\"http://www.w3.org/2000/svg\" height=\"24px\"viewBox=\"0 0 24 24\"\n",
       "       width=\"24px\">\n",
       "    <path d=\"M0 0h24v24H0V0z\" fill=\"none\"/>\n",
       "    <path d=\"M18.56 5.44l.94 2.06.94-2.06 2.06-.94-2.06-.94-.94-2.06-.94 2.06-2.06.94zm-11 1L8.5 8.5l.94-2.06 2.06-.94-2.06-.94L8.5 2.5l-.94 2.06-2.06.94zm10 10l.94 2.06.94-2.06 2.06-.94-2.06-.94-.94-2.06-.94 2.06-2.06.94z\"/><path d=\"M17.41 7.96l-1.37-1.37c-.4-.4-.92-.59-1.43-.59-.52 0-1.04.2-1.43.59L10.3 9.45l-7.72 7.72c-.78.78-.78 2.05 0 2.83L4 21.41c.39.39.9.59 1.41.59.51 0 1.02-.2 1.41-.59l7.78-7.78 2.81-2.81c.8-.78.8-2.07 0-2.86zM5.41 20L4 18.59l7.72-7.72 1.47 1.35L5.41 20z\"/>\n",
       "  </svg>\n",
       "      </button>\n",
       "      \n",
       "  <style>\n",
       "    .colab-df-container {\n",
       "      display:flex;\n",
       "      flex-wrap:wrap;\n",
       "      gap: 12px;\n",
       "    }\n",
       "\n",
       "    .colab-df-convert {\n",
       "      background-color: #E8F0FE;\n",
       "      border: none;\n",
       "      border-radius: 50%;\n",
       "      cursor: pointer;\n",
       "      display: none;\n",
       "      fill: #1967D2;\n",
       "      height: 32px;\n",
       "      padding: 0 0 0 0;\n",
       "      width: 32px;\n",
       "    }\n",
       "\n",
       "    .colab-df-convert:hover {\n",
       "      background-color: #E2EBFA;\n",
       "      box-shadow: 0px 1px 2px rgba(60, 64, 67, 0.3), 0px 1px 3px 1px rgba(60, 64, 67, 0.15);\n",
       "      fill: #174EA6;\n",
       "    }\n",
       "\n",
       "    [theme=dark] .colab-df-convert {\n",
       "      background-color: #3B4455;\n",
       "      fill: #D2E3FC;\n",
       "    }\n",
       "\n",
       "    [theme=dark] .colab-df-convert:hover {\n",
       "      background-color: #434B5C;\n",
       "      box-shadow: 0px 1px 3px 1px rgba(0, 0, 0, 0.15);\n",
       "      filter: drop-shadow(0px 1px 2px rgba(0, 0, 0, 0.3));\n",
       "      fill: #FFFFFF;\n",
       "    }\n",
       "  </style>\n",
       "\n",
       "      <script>\n",
       "        const buttonEl =\n",
       "          document.querySelector('#df-9aca1a82-ab37-4c99-a251-e920b8e5ce5e button.colab-df-convert');\n",
       "        buttonEl.style.display =\n",
       "          google.colab.kernel.accessAllowed ? 'block' : 'none';\n",
       "\n",
       "        async function convertToInteractive(key) {\n",
       "          const element = document.querySelector('#df-9aca1a82-ab37-4c99-a251-e920b8e5ce5e');\n",
       "          const dataTable =\n",
       "            await google.colab.kernel.invokeFunction('convertToInteractive',\n",
       "                                                     [key], {});\n",
       "          if (!dataTable) return;\n",
       "\n",
       "          const docLinkHtml = 'Like what you see? Visit the ' +\n",
       "            '<a target=\"_blank\" href=https://colab.research.google.com/notebooks/data_table.ipynb>data table notebook</a>'\n",
       "            + ' to learn more about interactive tables.';\n",
       "          element.innerHTML = '';\n",
       "          dataTable['output_type'] = 'display_data';\n",
       "          await google.colab.output.renderOutput(dataTable, element);\n",
       "          const docLink = document.createElement('div');\n",
       "          docLink.innerHTML = docLinkHtml;\n",
       "          element.appendChild(docLink);\n",
       "        }\n",
       "      </script>\n",
       "    </div>\n",
       "  </div>\n",
       "  "
      ],
      "text/plain": [
       "    Cluster    Agent  Count\n",
       "56        3     jett   7991\n",
       "65        3     sova   6814\n",
       "61        3     raze   4781\n",
       "59        3     omen   3716\n",
       "58        3  killjoy   3578"
      ]
     },
     "execution_count": 97,
     "metadata": {},
     "output_type": "execute_result"
    }
   ],
   "source": [
    "cluster_3 = agent_count.loc[(agent_count[\"Cluster\"]) == 3]\n",
    "cluster_3.sort_values(by=\"Count\", ascending=False).head(5)"
   ]
  },
  {
   "cell_type": "markdown",
   "id": "wA6m97BvWQov",
   "metadata": {
    "id": "wA6m97BvWQov"
   },
   "source": [
    "No es posible apreciar un patrón claro a primera vista, pero conociendo el estado del juego en el año 2021, se sabe que el agente Sova era fundamental en cualquier partida, por lo que no es raro que aparezca muchas veces en todos los clusters. Por otra parte, el cluster 1, que es el que posee mayor promedio de Kills y ACS, presenta 3 agentes de rol duelista: Jett, Raze y Reyna, los cuales son personajes cuyas habilidades les permiten efectuar mejores duelos contra el enemigo, por lo que tiene sentido que aparezcan mucho en el cluster con mayores promedios.\n",
    "\n",
    "Podemos ver que el metodo con mejores resultados se basa principalmente en las estadísticas ACS y Kills de los jugadores, por lo que sí pudimos encontrar grupos de jugadores respecto a sus estadísticas, pero como dijimos en el Hito 1, el ACS puede no representar que tan bueno es un jugador, por lo que vale la pena hacer de nuevo este experimento sin mirar estas estadísticas."
   ]
  },
  {
   "cell_type": "markdown",
   "id": "sBoEzyaVa06m",
   "metadata": {
    "id": "sBoEzyaVa06m"
   },
   "source": [
    "Informe: Felipe Jara, Cristóbal Isla, Nicolás Peña, Manuel Sepúlveda y Carlos Ambiado. <br> Presentación: Felipe Jara y Cristóbal Isla.\n"
   ]
  },
  {
   "cell_type": "code",
   "execution_count": null,
   "id": "cf53c7f8",
   "metadata": {},
   "outputs": [],
   "source": []
  },
  {
   "cell_type": "markdown",
   "id": "6cfb019d",
   "metadata": {
    "id": "G19o53FrcLKc"
   },
   "source": [
    "# Hito 3"
   ]
  },
  {
   "cell_type": "code",
   "execution_count": 66,
   "id": "088874a7",
   "metadata": {},
   "outputs": [],
   "source": [
    "# Limpiar campos None\n",
    "new_rounds = rounds.dropna(subset=['RoundHistory'])"
   ]
  },
  {
   "cell_type": "code",
   "execution_count": 111,
   "id": "e2868cfa",
   "metadata": {},
   "outputs": [],
   "source": [
    "import hjson\n",
    "\n",
    "all_round_history = new_rounds[\"RoundHistory\"]\n",
    "max_rounds = 25\n",
    "new_columns = {}\n",
    "for row in all_round_history:\n",
    "    round_history = hjson.loads(row)\n",
    "    \n",
    "    # Iterate through the rounds in the JSON data\n",
    "    for round_num in range(1, max_rounds + 1):\n",
    "        round_data = round_history.get(str(round_num))\n",
    "        round_prefix = f\"Round{round_num}\"\n",
    "        \n",
    "        # Extract the required information for each round\n",
    "        round_winner = round_data['RoundWinner'] if round_data else None\n",
    "        score_after_round = round_data['ScoreAfterRound'] if round_data else None\n",
    "        win_type = round_data['WinType'] if round_data else None\n",
    "        team1_bank = round_data['Team1Bank'] if round_data else None\n",
    "        team2_bank = round_data['Team2Bank'] if round_data else None\n",
    "        team1_buy_type = round_data['Team1BuyType'] if round_data else None\n",
    "        team2_buy_type = round_data['Team2BuyType'] if round_data else None\n",
    "        \n",
    "        # Store the data in the respective column of the dictionary\n",
    "        new_columns.setdefault(f\"{round_prefix}_RoundWinner\", []).append(round_winner)\n",
    "        new_columns.setdefault(f\"{round_prefix}_ScoreAfterRound\", []).append(score_after_round)\n",
    "        new_columns.setdefault(f\"{round_prefix}_WinType\", []).append(win_type)\n",
    "        new_columns.setdefault(f\"{round_prefix}_Team1Bank\", []).append(team1_bank)\n",
    "        new_columns.setdefault(f\"{round_prefix}_Team2Bank\", []).append(team2_bank)\n",
    "        new_columns.setdefault(f\"{round_prefix}_Team1BuyType\", []).append(team1_buy_type)\n",
    "        new_columns.setdefault(f\"{round_prefix}_Team2BuyType\", []).append(team2_buy_type)\n",
    "        \n",
    "# Create the new dataframe using the dictionary\n",
    "new_df = pd.DataFrame(new_columns)\n",
    "\n",
    "# Concatenate the original dataframe and the new dataframe\n",
    "extended_round_history = pd.concat([new_rounds, new_df], axis=1)\n",
    "extended_round_history.head"
   ]
  }
 ],
 "metadata": {
  "colab": {
   "provenance": []
  },
  "kernelspec": {
   "display_name": "Python 3 (ipykernel)",
   "language": "python",
   "name": "python3"
  },
  "language_info": {
   "codemirror_mode": {
    "name": "ipython",
    "version": 3
   },
   "file_extension": ".py",
   "mimetype": "text/x-python",
   "name": "python",
   "nbconvert_exporter": "python",
   "pygments_lexer": "ipython3",
   "version": "3.10.9"
  }
 },
 "nbformat": 4,
 "nbformat_minor": 5
}
